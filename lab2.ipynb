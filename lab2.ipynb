{
  "nbformat": 4,
  "nbformat_minor": 0,
  "metadata": {
    "colab": {
      "name": "lab2.ipynb",
      "provenance": [],
      "authorship_tag": "ABX9TyPVOwLUmmjfGt96XMO9E4z+"
    },
    "kernelspec": {
      "name": "python3",
      "display_name": "Python 3"
    }
  },
  "cells": [
    {
      "cell_type": "markdown",
      "metadata": {
        "id": "durstuj-Ag06",
        "colab_type": "text"
      },
      "source": [
        "# Dubinich Arina, PM-41"
      ]
    },
    {
      "cell_type": "markdown",
      "metadata": {
        "id": "RY76y-ijA0-J",
        "colab_type": "text"
      },
      "source": [
        "Task 2"
      ]
    },
    {
      "cell_type": "code",
      "metadata": {
        "id": "rmooJjUMexH3",
        "colab_type": "code",
        "colab": {
          "base_uri": "https://localhost:8080/",
          "height": 34
        },
        "outputId": "e39b41cb-8e05-4d60-da42-8624eca112cf"
      },
      "source": [
        "from __future__ import absolute_import\n",
        "from __future__ import division\n",
        "from __future__ import print_function\n",
        "import keras\n",
        "from keras.layers import Activation, Dense, Input\n",
        "from keras.layers import Conv2D, Flatten\n",
        "from keras.layers import Reshape, Conv2DTranspose\n",
        "from keras.models import Model\n",
        "from keras import backend as K\n",
        "from keras.datasets import mnist\n",
        "import numpy as np\n",
        "import matplotlib.pyplot as plt\n",
        "from PIL import Image"
      ],
      "execution_count": 1,
      "outputs": [
        {
          "output_type": "stream",
          "text": [
            "Using TensorFlow backend.\n"
          ],
          "name": "stderr"
        }
      ]
    },
    {
      "cell_type": "code",
      "metadata": {
        "id": "g4_vThTte6sQ",
        "colab_type": "code",
        "outputId": "08ba93dd-85c6-48c3-f42a-2ae75d94fa81",
        "colab": {
          "base_uri": "https://localhost:8080/",
          "height": 50
        }
      },
      "source": [
        "#MNIST dataset\n",
        "(x_train, _), (x_test, _) = mnist.load_data()"
      ],
      "execution_count": 2,
      "outputs": [
        {
          "output_type": "stream",
          "text": [
            "Downloading data from https://s3.amazonaws.com/img-datasets/mnist.npz\n",
            "11493376/11490434 [==============================] - 1s 0us/step\n"
          ],
          "name": "stdout"
        }
      ]
    },
    {
      "cell_type": "code",
      "metadata": {
        "id": "ce4TS7fFe6yW",
        "colab_type": "code",
        "colab": {}
      },
      "source": [
        "image_size = x_train.shape[1]\n",
        "x_train = np.reshape(x_train, [-1, image_size, image_size, 1])\n",
        "x_test = np.reshape(x_test, [-1, image_size, image_size, 1])\n",
        "x_train = x_train.astype('float32') / 255\n",
        "x_test = x_test.astype('float32') / 255"
      ],
      "execution_count": 0,
      "outputs": []
    },
    {
      "cell_type": "code",
      "metadata": {
        "id": "c8NCf9z7e63d",
        "colab_type": "code",
        "colab": {}
      },
      "source": [
        "# Generate corrupted MNIST images by adding noise with normal dist\n",
        "# centered at 0.5 and std=0.5\n",
        "noise = np.random.normal(loc=0.5, scale=0.5, size=x_train.shape)\n",
        "x_train_noisy = x_train + noise\n",
        "noise = np.random.normal(loc=0.5, scale=0.5, size=x_test.shape)\n",
        "x_test_noisy = x_test + noise"
      ],
      "execution_count": 0,
      "outputs": []
    },
    {
      "cell_type": "code",
      "metadata": {
        "id": "-5n_1cBae68d",
        "colab_type": "code",
        "colab": {}
      },
      "source": [
        "x_train_noisy = np.clip(x_train_noisy, 0., 1.)\n",
        "x_test_noisy = np.clip(x_test_noisy, 0., 1.)"
      ],
      "execution_count": 0,
      "outputs": []
    },
    {
      "cell_type": "code",
      "metadata": {
        "id": "ukNwBRQCe7A4",
        "colab_type": "code",
        "colab": {}
      },
      "source": [
        "# Network parameters\n",
        "input_shape = (image_size, image_size, 1)\n",
        "batch_size = 128\n",
        "kernel_size = 3\n",
        "latent_dim = 16\n",
        "# Encoder/Decoder number of CNN layers and filters per layer\n",
        "layer_filters = [32, 64]"
      ],
      "execution_count": 0,
      "outputs": []
    },
    {
      "cell_type": "code",
      "metadata": {
        "id": "uxp_4AVSe7FG",
        "colab_type": "code",
        "colab": {}
      },
      "source": [
        "# First build the Encoder Model\n",
        "inputs = Input(shape=input_shape, name='encoder_input')\n",
        "x = inputs\n",
        "# Stack of Conv2D blocks\n",
        "for filters in layer_filters:\n",
        "    x = Conv2D(filters=filters,\n",
        "               kernel_size=kernel_size,\n",
        "               strides=2,\n",
        "               activation='relu',\n",
        "               padding='same')(x)"
      ],
      "execution_count": 0,
      "outputs": []
    },
    {
      "cell_type": "code",
      "metadata": {
        "id": "CKgfHeL6fJnr",
        "colab_type": "code",
        "colab": {}
      },
      "source": [
        "# Shape info needed to build Decoder Model\n",
        "shape = K.int_shape(x)"
      ],
      "execution_count": 0,
      "outputs": []
    },
    {
      "cell_type": "code",
      "metadata": {
        "id": "Vl3aWpJXfJxF",
        "colab_type": "code",
        "colab": {}
      },
      "source": [
        "# Generate the latent vector\n",
        "x = Flatten()(x)\n",
        "latent = Dense(latent_dim, name='latent_vector')(x)"
      ],
      "execution_count": 0,
      "outputs": []
    },
    {
      "cell_type": "code",
      "metadata": {
        "id": "t7dBOjybfJ4l",
        "colab_type": "code",
        "outputId": "424a1553-acf1-4a91-efe5-6ddbf3624066",
        "colab": {
          "base_uri": "https://localhost:8080/",
          "height": 319
        }
      },
      "source": [
        "# Instantiate Encoder Model\n",
        "encoder = Model(inputs, latent, name='encoder')\n",
        "encoder.summary()"
      ],
      "execution_count": 30,
      "outputs": [
        {
          "output_type": "stream",
          "text": [
            "Model: \"encoder\"\n",
            "_________________________________________________________________\n",
            "Layer (type)                 Output Shape              Param #   \n",
            "=================================================================\n",
            "encoder_input (InputLayer)   (None, 28, 28, 1)         0         \n",
            "_________________________________________________________________\n",
            "conv2d_6 (Conv2D)            (None, 14, 14, 32)        320       \n",
            "_________________________________________________________________\n",
            "conv2d_7 (Conv2D)            (None, 7, 7, 64)          18496     \n",
            "_________________________________________________________________\n",
            "flatten_3 (Flatten)          (None, 3136)              0         \n",
            "_________________________________________________________________\n",
            "latent_vector (Dense)        (None, 16)                50192     \n",
            "=================================================================\n",
            "Total params: 69,008\n",
            "Trainable params: 69,008\n",
            "Non-trainable params: 0\n",
            "_________________________________________________________________\n"
          ],
          "name": "stdout"
        }
      ]
    },
    {
      "cell_type": "code",
      "metadata": {
        "id": "orMYvJ6ifKVF",
        "colab_type": "code",
        "colab": {}
      },
      "source": [
        "# Build the Decoder Model\n",
        "latent_inputs = Input(shape=(latent_dim,), name='decoder_input')\n",
        "x = Dense(shape[1] * shape[2] * shape[3])(latent_inputs)\n",
        "x = Reshape((shape[1], shape[2], shape[3]))(x)\n",
        "# Stack of Transposed Conv2D blocks\n",
        "for filters in layer_filters[::-1]:\n",
        "    x = Conv2DTranspose(filters=filters,\n",
        "                        kernel_size=kernel_size,\n",
        "                        strides=2,\n",
        "                        activation='relu',\n",
        "                        padding='same')(x)\n",
        "x = Conv2DTranspose(filters=1,\n",
        "                    kernel_size=kernel_size,\n",
        "                    padding='same')(x)\n",
        "\n",
        "outputs = Activation('sigmoid', name='decoder_output')(x)"
      ],
      "execution_count": 0,
      "outputs": []
    },
    {
      "cell_type": "code",
      "metadata": {
        "id": "v4ocwNixfKbl",
        "colab_type": "code",
        "outputId": "a0b2ab7e-c07e-414c-9602-56b29234b6e9",
        "colab": {
          "base_uri": "https://localhost:8080/",
          "height": 386
        }
      },
      "source": [
        "# Instantiate Decoder Model\n",
        "decoder = Model(latent_inputs, outputs, name='decoder')\n",
        "decoder.summary()"
      ],
      "execution_count": 35,
      "outputs": [
        {
          "output_type": "stream",
          "text": [
            "Model: \"decoder\"\n",
            "_________________________________________________________________\n",
            "Layer (type)                 Output Shape              Param #   \n",
            "=================================================================\n",
            "decoder_input (InputLayer)   (None, 16)                0         \n",
            "_________________________________________________________________\n",
            "dense_6 (Dense)              (None, 3136)              53312     \n",
            "_________________________________________________________________\n",
            "reshape_6 (Reshape)          (None, 7, 7, 64)          0         \n",
            "_________________________________________________________________\n",
            "conv2d_transpose_19 (Conv2DT (None, 14, 14, 64)        36928     \n",
            "_________________________________________________________________\n",
            "conv2d_transpose_20 (Conv2DT (None, 28, 28, 32)        18464     \n",
            "_________________________________________________________________\n",
            "conv2d_transpose_21 (Conv2DT (None, 28, 28, 1)         289       \n",
            "_________________________________________________________________\n",
            "decoder_output (Activation)  (None, 28, 28, 1)         0         \n",
            "=================================================================\n",
            "Total params: 108,993\n",
            "Trainable params: 108,993\n",
            "Non-trainable params: 0\n",
            "_________________________________________________________________\n"
          ],
          "name": "stdout"
        }
      ]
    },
    {
      "cell_type": "code",
      "metadata": {
        "id": "HSMM_5JKfKhd",
        "colab_type": "code",
        "outputId": "22563614-9dcf-4847-cce7-7697683c738d",
        "colab": {
          "base_uri": "https://localhost:8080/",
          "height": 252
        }
      },
      "source": [
        "# Instantiate Autoencoder Model\n",
        "autoencoder = Model(inputs, decoder(encoder(inputs)), name='autoencoder')\n",
        "autoencoder.summary()\n",
        "autoencoder.compile(loss='mse', optimizer='adam')"
      ],
      "execution_count": 36,
      "outputs": [
        {
          "output_type": "stream",
          "text": [
            "Model: \"autoencoder\"\n",
            "_________________________________________________________________\n",
            "Layer (type)                 Output Shape              Param #   \n",
            "=================================================================\n",
            "encoder_input (InputLayer)   (None, 28, 28, 1)         0         \n",
            "_________________________________________________________________\n",
            "encoder (Model)              (None, 16)                69008     \n",
            "_________________________________________________________________\n",
            "decoder (Model)              (None, 28, 28, 1)         108993    \n",
            "=================================================================\n",
            "Total params: 178,001\n",
            "Trainable params: 178,001\n",
            "Non-trainable params: 0\n",
            "_________________________________________________________________\n"
          ],
          "name": "stdout"
        }
      ]
    },
    {
      "cell_type": "code",
      "metadata": {
        "id": "zM--mUK_fKoP",
        "colab_type": "code",
        "outputId": "89479c9a-8945-4d7d-ffcc-35dde59d4962",
        "colab": {
          "base_uri": "https://localhost:8080/",
          "height": 1000
        }
      },
      "source": [
        "# Train the autoencoder\n",
        "history = autoencoder.fit(x_train_noisy,\n",
        "                x_train,\n",
        "                validation_data=(x_test_noisy, x_test),\n",
        "                epochs=30,\n",
        "                batch_size=batch_size)"
      ],
      "execution_count": 37,
      "outputs": [
        {
          "output_type": "stream",
          "text": [
            "Train on 60000 samples, validate on 10000 samples\n",
            "Epoch 1/30\n",
            "60000/60000 [==============================] - 87s 1ms/step - loss: 0.0609 - val_loss: 0.0328\n",
            "Epoch 2/30\n",
            "60000/60000 [==============================] - 87s 1ms/step - loss: 0.0259 - val_loss: 0.0219\n",
            "Epoch 3/30\n",
            "60000/60000 [==============================] - 87s 1ms/step - loss: 0.0210 - val_loss: 0.0197\n",
            "Epoch 4/30\n",
            "60000/60000 [==============================] - 87s 1ms/step - loss: 0.0193 - val_loss: 0.0185\n",
            "Epoch 5/30\n",
            "60000/60000 [==============================] - 87s 1ms/step - loss: 0.0183 - val_loss: 0.0178\n",
            "Epoch 6/30\n",
            "60000/60000 [==============================] - 87s 1ms/step - loss: 0.0176 - val_loss: 0.0174\n",
            "Epoch 7/30\n",
            "60000/60000 [==============================] - 87s 1ms/step - loss: 0.0171 - val_loss: 0.0171\n",
            "Epoch 8/30\n",
            "60000/60000 [==============================] - 88s 1ms/step - loss: 0.0168 - val_loss: 0.0169\n",
            "Epoch 9/30\n",
            "60000/60000 [==============================] - 87s 1ms/step - loss: 0.0165 - val_loss: 0.0167\n",
            "Epoch 10/30\n",
            "60000/60000 [==============================] - 87s 1ms/step - loss: 0.0162 - val_loss: 0.0165\n",
            "Epoch 11/30\n",
            "60000/60000 [==============================] - 88s 1ms/step - loss: 0.0160 - val_loss: 0.0164\n",
            "Epoch 12/30\n",
            "60000/60000 [==============================] - 88s 1ms/step - loss: 0.0158 - val_loss: 0.0164\n",
            "Epoch 13/30\n",
            "60000/60000 [==============================] - 88s 1ms/step - loss: 0.0157 - val_loss: 0.0162\n",
            "Epoch 14/30\n",
            "60000/60000 [==============================] - 88s 1ms/step - loss: 0.0155 - val_loss: 0.0162\n",
            "Epoch 15/30\n",
            "60000/60000 [==============================] - 89s 1ms/step - loss: 0.0154 - val_loss: 0.0161\n",
            "Epoch 16/30\n",
            "60000/60000 [==============================] - 89s 1ms/step - loss: 0.0152 - val_loss: 0.0160\n",
            "Epoch 17/30\n",
            "60000/60000 [==============================] - 88s 1ms/step - loss: 0.0151 - val_loss: 0.0159\n",
            "Epoch 18/30\n",
            "60000/60000 [==============================] - 88s 1ms/step - loss: 0.0150 - val_loss: 0.0159\n",
            "Epoch 19/30\n",
            "60000/60000 [==============================] - 88s 1ms/step - loss: 0.0150 - val_loss: 0.0159\n",
            "Epoch 20/30\n",
            "60000/60000 [==============================] - 88s 1ms/step - loss: 0.0148 - val_loss: 0.0159\n",
            "Epoch 21/30\n",
            "60000/60000 [==============================] - 89s 1ms/step - loss: 0.0148 - val_loss: 0.0158\n",
            "Epoch 22/30\n",
            "60000/60000 [==============================] - 89s 1ms/step - loss: 0.0147 - val_loss: 0.0159\n",
            "Epoch 23/30\n",
            "60000/60000 [==============================] - 89s 1ms/step - loss: 0.0146 - val_loss: 0.0157\n",
            "Epoch 24/30\n",
            "60000/60000 [==============================] - 89s 1ms/step - loss: 0.0146 - val_loss: 0.0157\n",
            "Epoch 25/30\n",
            "60000/60000 [==============================] - 89s 1ms/step - loss: 0.0145 - val_loss: 0.0158\n",
            "Epoch 26/30\n",
            "60000/60000 [==============================] - 88s 1ms/step - loss: 0.0144 - val_loss: 0.0157\n",
            "Epoch 27/30\n",
            "60000/60000 [==============================] - 89s 1ms/step - loss: 0.0144 - val_loss: 0.0157\n",
            "Epoch 28/30\n",
            "60000/60000 [==============================] - 89s 1ms/step - loss: 0.0143 - val_loss: 0.0158\n",
            "Epoch 29/30\n",
            "60000/60000 [==============================] - 88s 1ms/step - loss: 0.0143 - val_loss: 0.0157\n",
            "Epoch 30/30\n",
            "60000/60000 [==============================] - 88s 1ms/step - loss: 0.0143 - val_loss: 0.0157\n"
          ],
          "name": "stdout"
        }
      ]
    },
    {
      "cell_type": "code",
      "metadata": {
        "id": "v_90mu4ZfKtf",
        "colab_type": "code",
        "colab": {}
      },
      "source": [
        "# Predict the Autoencoder output from corrupted test images\n",
        "x_decoded = autoencoder.predict(x_test_noisy)"
      ],
      "execution_count": 0,
      "outputs": []
    },
    {
      "cell_type": "code",
      "metadata": {
        "id": "F_V1wTYxfKyz",
        "colab_type": "code",
        "colab": {
          "base_uri": "https://localhost:8080/",
          "height": 264
        },
        "outputId": "c9c1c0d8-8a6d-48b0-8a9d-51f862ca9cb8"
      },
      "source": [
        "rows, cols = 3, 3\n",
        "num = rows * cols\n",
        "imgs = np.concatenate([x_test[:num], x_test_noisy[:num], x_decoded[:num]])\n",
        "imgs = imgs.reshape((rows * 3, cols, image_size, image_size))\n",
        "imgs = np.vstack(np.split(imgs, rows, axis=1))\n",
        "imgs = imgs.reshape((rows * 3, -1, image_size, image_size))\n",
        "imgs = np.vstack([np.hstack(i) for i in imgs])\n",
        "imgs = (imgs * 255).astype(np.uint8)\n",
        "plt.figure()\n",
        "plt.axis('off')\n",
        "plt.title('Original images: top rows, '\n",
        "          'Corrupted Input: middle rows, '\n",
        "          'Denoised Input:  third rows')\n",
        "plt.imshow(imgs, interpolation='none', cmap='gray')\n",
        "Image.fromarray(imgs).save('corrupted_and_denoised.png')\n",
        "plt.show()"
      ],
      "execution_count": 39,
      "outputs": [
        {
          "output_type": "display_data",
          "data": {
            "image/png": "[encoded data removed]",
            "text/plain": [
              "<Figure size 432x288 with 1 Axes>"
            ]
          },
          "metadata": {
            "tags": [],
            "needs_background": "light"
          }
        }
      ]
    },
    {
      "cell_type": "code",
      "metadata": {
        "id": "JP42CFgLBCyi",
        "colab_type": "code",
        "colab": {}
      },
      "source": [
        ""
      ],
      "execution_count": 0,
      "outputs": []
    }
  ]
}