{
  "nbformat": 4,
  "nbformat_minor": 0,
  "metadata": {
    "colab": {
      "name": "lab3.ipynb",
      "provenance": [],
      "toc_visible": true,
      "mount_file_id": "11aUb16Ej5uCVRNS1TdbjYnASpqH7ujfu",
      "authorship_tag": "ABX9TyNYLxw6txu1A1sekzzFzt+7",
      "include_colab_link": true
    },
    "kernelspec": {
      "name": "python3",
      "display_name": "Python 3"
    }
  },
  "cells": [
    {
      "cell_type": "markdown",
      "metadata": {
        "id": "view-in-github",
        "colab_type": "text"
      },
      "source": [
        "<a href=\"https://colab.research.google.com/github/arinadubinich/NeuralNetworks-spring2020/blob/master/lab3.ipynb\" target=\"_parent\"><img src=\"https://colab.research.google.com/assets/colab-badge.svg\" alt=\"Open In Colab\"/></a>"
      ]
    },
    {
      "cell_type": "markdown",
      "metadata": {
        "id": "QaDL_MAf_vfg",
        "colab_type": "text"
      },
      "source": [
        "# Dubinich Arina, PM-41\n"
      ]
    },
    {
      "cell_type": "markdown",
      "metadata": {
        "id": "FrE62B3k_3Xc",
        "colab_type": "text"
      },
      "source": [
        "# Task 1\n"
      ]
    },
    {
      "cell_type": "code",
      "metadata": {
        "id": "wYK5mAuZqCEs",
        "colab_type": "code",
        "colab": {}
      },
      "source": [
        "from tensorflow.keras.models import Sequential\n",
        "from tensorflow.keras.models import Model\n",
        "from tensorflow.keras.layers import Dense, Dropout, LSTM, Embedding, SpatialDropout1D, Input, Activation\n",
        "from tensorflow.keras.regularizers import l1\n",
        "from tensorflow.keras.callbacks import EarlyStopping\n",
        "from sklearn.preprocessing import LabelEncoder\n",
        "from tensorflow.keras.preprocessing.text import Tokenizer\n",
        "from keras.preprocessing import sequence\n",
        "\n",
        "\n",
        "from sklearn.model_selection import train_test_split\n",
        "\n",
        "import pandas as pd\n",
        "import numpy as np"
      ],
      "execution_count": 0,
      "outputs": []
    },
    {
      "cell_type": "code",
      "metadata": {
        "id": "fsqoMW3O6voT",
        "colab_type": "code",
        "colab": {}
      },
      "source": [
        "df = pd.read_csv('drive/My Drive/data_text_classification.csv', sep=';')"
      ],
      "execution_count": 0,
      "outputs": []
    },
    {
      "cell_type": "code",
      "metadata": {
        "id": "8UJ_3g4s83jk",
        "colab_type": "code",
        "colab": {
          "base_uri": "https://localhost:8080/",
          "height": 195
        },
        "outputId": "ec6fe39b-4968-4c96-f5e8-e5cc6fa37da5"
      },
      "source": [
        "df.head()"
      ],
      "execution_count": 98,
      "outputs": [
        {
          "output_type": "execute_result",
          "data": {
            "text/html": [
              "<div>\n",
              "<style scoped>\n",
              "    .dataframe tbody tr th:only-of-type {\n",
              "        vertical-align: middle;\n",
              "    }\n",
              "\n",
              "    .dataframe tbody tr th {\n",
              "        vertical-align: top;\n",
              "    }\n",
              "\n",
              "    .dataframe thead th {\n",
              "        text-align: right;\n",
              "    }\n",
              "</style>\n",
              "<table border=\"1\" class=\"dataframe\">\n",
              "  <thead>\n",
              "    <tr style=\"text-align: right;\">\n",
              "      <th></th>\n",
              "      <th>Текст</th>\n",
              "      <th>Тип текста</th>\n",
              "    </tr>\n",
              "  </thead>\n",
              "  <tbody>\n",
              "    <tr>\n",
              "      <th>0</th>\n",
              "      <td>Стратегическое управление можно представить в ...</td>\n",
              "      <td>Научный</td>\n",
              "    </tr>\n",
              "    <tr>\n",
              "      <th>1</th>\n",
              "      <td>Важным шагом успешного решения проблемы разраб...</td>\n",
              "      <td>Научный</td>\n",
              "    </tr>\n",
              "    <tr>\n",
              "      <th>2</th>\n",
              "      <td>Разработка методов математического моделирован...</td>\n",
              "      <td>Научный</td>\n",
              "    </tr>\n",
              "    <tr>\n",
              "      <th>3</th>\n",
              "      <td>Идея такого подхода состоит в декомпозиции сло...</td>\n",
              "      <td>Научный</td>\n",
              "    </tr>\n",
              "    <tr>\n",
              "      <th>4</th>\n",
              "      <td>Декомпозиция осуществляется путем минимизации ...</td>\n",
              "      <td>Научный</td>\n",
              "    </tr>\n",
              "  </tbody>\n",
              "</table>\n",
              "</div>"
            ],
            "text/plain": [
              "                                               Текст Тип текста\n",
              "0  Стратегическое управление можно представить в ...    Научный\n",
              "1  Важным шагом успешного решения проблемы разраб...    Научный\n",
              "2  Разработка методов математического моделирован...    Научный\n",
              "3  Идея такого подхода состоит в декомпозиции сло...    Научный\n",
              "4  Декомпозиция осуществляется путем минимизации ...    Научный"
            ]
          },
          "metadata": {
            "tags": []
          },
          "execution_count": 98
        }
      ]
    },
    {
      "cell_type": "code",
      "metadata": {
        "id": "32jdJPwyDyLK",
        "colab_type": "code",
        "colab": {
          "base_uri": "https://localhost:8080/",
          "height": 34
        },
        "outputId": "0665c55b-9ffb-4f7b-ca8d-1baea4d83883"
      },
      "source": [
        "X = df['Текст']\n",
        "Y = pd.get_dummies(df['Тип текста']).values"
      ],
      "execution_count": 114,
      "outputs": [
        {
          "output_type": "stream",
          "text": [
            "Shape of label tensor: (160, 3)\n"
          ],
          "name": "stdout"
        }
      ]
    },
    {
      "cell_type": "code",
      "metadata": {
        "id": "C3z39RHt6vwP",
        "colab_type": "code",
        "colab": {}
      },
      "source": [
        "X_train, X_test, Y_train, Y_test = train_test_split(X, Y, test_size = 0.2)"
      ],
      "execution_count": 0,
      "outputs": []
    },
    {
      "cell_type": "code",
      "metadata": {
        "id": "DG0oRa6J_h1h",
        "colab_type": "code",
        "colab": {
          "base_uri": "https://localhost:8080/",
          "height": 50
        },
        "outputId": "a15e2a7a-44a3-47dc-aa0d-92e7a421f18a"
      },
      "source": [
        "print(X_train.shape,Y_train.shape)\n",
        "print(X_test.shape,Y_test.shape)"
      ],
      "execution_count": 116,
      "outputs": [
        {
          "output_type": "stream",
          "text": [
            "(128,) (128, 3)\n",
            "(32,) (32, 3)\n"
          ],
          "name": "stdout"
        }
      ]
    },
    {
      "cell_type": "code",
      "metadata": {
        "id": "PSyU3rlU_h-B",
        "colab_type": "code",
        "colab": {
          "base_uri": "https://localhost:8080/",
          "height": 34
        },
        "outputId": "1560d5e7-f363-4c5f-a8eb-9b017d7515b8"
      },
      "source": [
        "max_words = 1000\n",
        "max_len = 150\n",
        "tok = Tokenizer(num_words=max_words)\n",
        "tok.fit_on_texts(X_train)\n",
        "sequences = tok.texts_to_sequences(X_train)\n",
        "sequences_matrix = sequence.pad_sequences(sequences,maxlen=max_len)\n",
        "print('Shape of data tensor:', sequences_matrix.shape)"
      ],
      "execution_count": 117,
      "outputs": [
        {
          "output_type": "stream",
          "text": [
            "Shape of data tensor: (128, 150)\n"
          ],
          "name": "stdout"
        }
      ]
    },
    {
      "cell_type": "code",
      "metadata": {
        "id": "oiJe8oGsia63",
        "colab_type": "code",
        "colab": {}
      },
      "source": [
        "test_sequences = tok.texts_to_sequences(X_test)\n",
        "test_sequences_matrix = sequence.pad_sequences(test_sequences,maxlen=max_len)"
      ],
      "execution_count": 0,
      "outputs": []
    },
    {
      "cell_type": "code",
      "metadata": {
        "id": "T8Y63iOO_iHZ",
        "colab_type": "code",
        "colab": {}
      },
      "source": [
        "def getModel():\n",
        "    inputs = Input(name='inputs',shape=[max_len])\n",
        "    layer = Embedding(max_words,50,input_length=max_len)(inputs)\n",
        "    layer = LSTM(64)(layer)\n",
        "    layer = Dense(256)(layer)\n",
        "    layer = Activation('relu')(layer)\n",
        "    layer = Dropout(0.5)(layer)\n",
        "    layer = Dense(3,name='out_layer')(layer)\n",
        "    layer = Activation('sigmoid')(layer)\n",
        "    model = Model(inputs=inputs,outputs=layer)\n",
        "    return model"
      ],
      "execution_count": 0,
      "outputs": []
    },
    {
      "cell_type": "code",
      "metadata": {
        "id": "CLF8Q-JPZgwv",
        "colab_type": "code",
        "colab": {
          "base_uri": "https://localhost:8080/",
          "height": 420
        },
        "outputId": "c6dff09a-60ac-4784-a2cf-df5a12090ac8"
      },
      "source": [
        "model = getModel()\n",
        "model.summary()\n",
        "model.compile(loss='categorical_crossentropy',optimizer='adam', metrics=['accuracy'])"
      ],
      "execution_count": 119,
      "outputs": [
        {
          "output_type": "stream",
          "text": [
            "Model: \"model_6\"\n",
            "_________________________________________________________________\n",
            "Layer (type)                 Output Shape              Param #   \n",
            "=================================================================\n",
            "inputs (InputLayer)          [(None, 150)]             0         \n",
            "_________________________________________________________________\n",
            "embedding_12 (Embedding)     (None, 150, 50)           50000     \n",
            "_________________________________________________________________\n",
            "lstm_11 (LSTM)               (None, 64)                29440     \n",
            "_________________________________________________________________\n",
            "dense_6 (Dense)              (None, 256)               16640     \n",
            "_________________________________________________________________\n",
            "activation_16 (Activation)   (None, 256)               0         \n",
            "_________________________________________________________________\n",
            "dropout_8 (Dropout)          (None, 256)               0         \n",
            "_________________________________________________________________\n",
            "out_layer (Dense)            (None, 3)                 771       \n",
            "_________________________________________________________________\n",
            "activation_17 (Activation)   (None, 3)                 0         \n",
            "=================================================================\n",
            "Total params: 96,851\n",
            "Trainable params: 96,851\n",
            "Non-trainable params: 0\n",
            "_________________________________________________________________\n"
          ],
          "name": "stdout"
        }
      ]
    },
    {
      "cell_type": "code",
      "metadata": {
        "id": "HfigWUoGVPc5",
        "colab_type": "code",
        "colab": {}
      },
      "source": [
        "es = EarlyStopping(monitor='val_loss', mode='min', verbose=1)"
      ],
      "execution_count": 0,
      "outputs": []
    },
    {
      "cell_type": "code",
      "metadata": {
        "id": "qW-CiF6r_iPz",
        "colab_type": "code",
        "colab": {
          "base_uri": "https://localhost:8080/",
          "height": 504
        },
        "outputId": "c4c1f0c8-79a6-4ffa-9c99-4f490ece7a92"
      },
      "source": [
        "history = model.fit(sequences_matrix, Y_train, epochs=40, batch_size=25,validation_split=0.1,callbacks=[es])"
      ],
      "execution_count": 120,
      "outputs": [
        {
          "output_type": "stream",
          "text": [
            "Epoch 1/40\n",
            "5/5 [==============================] - 1s 140ms/step - loss: 1.0973 - accuracy: 0.3826 - val_loss: 1.0961 - val_accuracy: 0.4615\n",
            "Epoch 2/40\n",
            "5/5 [==============================] - 0s 71ms/step - loss: 1.0903 - accuracy: 0.5565 - val_loss: 1.0895 - val_accuracy: 0.5385\n",
            "Epoch 3/40\n",
            "5/5 [==============================] - 0s 63ms/step - loss: 1.0795 - accuracy: 0.6522 - val_loss: 1.0786 - val_accuracy: 0.4615\n",
            "Epoch 4/40\n",
            "5/5 [==============================] - 0s 65ms/step - loss: 1.0526 - accuracy: 0.6957 - val_loss: 1.0485 - val_accuracy: 0.4615\n",
            "Epoch 5/40\n",
            "5/5 [==============================] - 0s 65ms/step - loss: 0.9957 - accuracy: 0.6696 - val_loss: 0.9887 - val_accuracy: 0.4615\n",
            "Epoch 6/40\n",
            "5/5 [==============================] - 0s 64ms/step - loss: 0.8726 - accuracy: 0.7130 - val_loss: 0.8941 - val_accuracy: 0.5385\n",
            "Epoch 7/40\n",
            "5/5 [==============================] - 0s 67ms/step - loss: 0.7316 - accuracy: 0.7391 - val_loss: 0.7598 - val_accuracy: 0.6154\n",
            "Epoch 8/40\n",
            "5/5 [==============================] - 0s 67ms/step - loss: 1.3533 - accuracy: 0.6957 - val_loss: 0.6993 - val_accuracy: 0.6154\n",
            "Epoch 9/40\n",
            "5/5 [==============================] - 0s 67ms/step - loss: 0.5648 - accuracy: 0.7913 - val_loss: 0.6628 - val_accuracy: 0.6923\n",
            "Epoch 10/40\n",
            "5/5 [==============================] - 0s 65ms/step - loss: 0.5050 - accuracy: 0.9130 - val_loss: 0.5944 - val_accuracy: 0.6923\n",
            "Epoch 11/40\n",
            "5/5 [==============================] - 0s 66ms/step - loss: 0.4663 - accuracy: 0.9739 - val_loss: 0.5369 - val_accuracy: 0.8462\n",
            "Epoch 12/40\n",
            "5/5 [==============================] - 0s 66ms/step - loss: 0.3844 - accuracy: 0.9913 - val_loss: 0.4888 - val_accuracy: 0.6923\n",
            "Epoch 13/40\n",
            "5/5 [==============================] - 0s 66ms/step - loss: 0.2852 - accuracy: 0.9652 - val_loss: 0.4261 - val_accuracy: 0.8462\n",
            "Epoch 14/40\n",
            "5/5 [==============================] - 0s 75ms/step - loss: 0.1724 - accuracy: 0.9826 - val_loss: 0.4536 - val_accuracy: 0.8462\n",
            "Epoch 00014: early stopping\n"
          ],
          "name": "stdout"
        }
      ]
    },
    {
      "cell_type": "code",
      "metadata": {
        "id": "PVVDbrzph1oq",
        "colab_type": "code",
        "colab": {
          "base_uri": "https://localhost:8080/",
          "height": 34
        },
        "outputId": "46953910-1688-4218-9e0c-7c5c0c4be1af"
      },
      "source": [
        "acc = model.evaluate(test_sequences_matrix,Y_test)"
      ],
      "execution_count": 122,
      "outputs": [
        {
          "output_type": "stream",
          "text": [
            "1/1 [==============================] - 0s 1ms/step - loss: 0.4818 - accuracy: 0.7812\n"
          ],
          "name": "stdout"
        }
      ]
    },
    {
      "cell_type": "code",
      "metadata": {
        "id": "xz5SKgEnh147",
        "colab_type": "code",
        "colab": {
          "base_uri": "https://localhost:8080/",
          "height": 67
        },
        "outputId": "e277ca46-21a3-4f32-bef4-2bec830a478f"
      },
      "source": [
        "print('Test set\\n  Loss: {:0.3f}\\n  Accuracy: {:0.3f}'.format(acc[0],acc[1]))"
      ],
      "execution_count": 123,
      "outputs": [
        {
          "output_type": "stream",
          "text": [
            "Test set\n",
            "  Loss: 0.482\n",
            "  Accuracy: 0.781\n"
          ],
          "name": "stdout"
        }
      ]
    },
    {
      "cell_type": "markdown",
      "metadata": {
        "id": "EbEPiL8PwA_c",
        "colab_type": "text"
      },
      "source": [
        "# Task 2 \n",
        "Download data:  https://ti.arc.nasa.gov/c/6/\n",
        "\n"
      ]
    },
    {
      "cell_type": "code",
      "metadata": {
        "id": "quDZ8qgOqCdG",
        "colab_type": "code",
        "colab": {}
      },
      "source": [
        "df_train = pd.concat([\n",
        "    pd.read_csv('drive/My Drive/CMAPSSData/train_FD001.txt', sep = ' ', header=None),\n",
        "    pd.read_csv('drive/My Drive/CMAPSSData/train_FD001.txt', sep = ' ', header=None),\n",
        "    pd.read_csv('drive/My Drive/CMAPSSData/train_FD001.txt', sep = ' ', header=None),\n",
        "    pd.read_csv('drive/My Drive/CMAPSSData/train_FD001.txt', sep = ' ', header=None)\n",
        "]).reset_index()\n",
        "df_train.drop(columns='index', inplace=True)"
      ],
      "execution_count": 0,
      "outputs": []
    },
    {
      "cell_type": "code",
      "metadata": {
        "id": "4tcbDh5bxaX_",
        "colab_type": "code",
        "colab": {}
      },
      "source": [
        "df_test = pd.concat([\n",
        "    pd.read_csv('drive/My Drive/CMAPSSData/test_FD001.txt', sep = ' ', header=None),\n",
        "    pd.read_csv('drive/My Drive/CMAPSSData/test_FD001.txt', sep = ' ', header=None),\n",
        "    pd.read_csv('drive/My Drive/CMAPSSData/test_FD001.txt', sep = ' ', header=None),\n",
        "    pd.read_csv('drive/My Drive/CMAPSSData/test_FD001.txt', sep = ' ', header=None)\n",
        "]).reset_index()\n",
        "df_test.drop(columns='index', inplace=True)"
      ],
      "execution_count": 0,
      "outputs": []
    },
    {
      "cell_type": "code",
      "metadata": {
        "id": "MS8rqvcQxakv",
        "colab_type": "code",
        "colab": {}
      },
      "source": [
        "for col in df_train.columns:\n",
        "    if len(df_train[col].unique()) == 1:\n",
        "        df_train.drop(col,inplace=True,axis=1)\n",
        "for col in df_test.columns:\n",
        "    if len(df_test[col].unique()) == 1:\n",
        "        df_test.drop(col,inplace=True,axis=1)"
      ],
      "execution_count": 0,
      "outputs": []
    },
    {
      "cell_type": "code",
      "metadata": {
        "id": "4wbQehGAsPLy",
        "colab_type": "code",
        "outputId": "12d0d479-9964-40e7-e69c-a87e28153e24",
        "colab": {
          "base_uri": "https://localhost:8080/",
          "height": 195
        }
      },
      "source": [
        "df_train.head()"
      ],
      "execution_count": 0,
      "outputs": [
        {
          "output_type": "execute_result",
          "data": {
            "text/html": [
              "<div>\n",
              "<style scoped>\n",
              "    .dataframe tbody tr th:only-of-type {\n",
              "        vertical-align: middle;\n",
              "    }\n",
              "\n",
              "    .dataframe tbody tr th {\n",
              "        vertical-align: top;\n",
              "    }\n",
              "\n",
              "    .dataframe thead th {\n",
              "        text-align: right;\n",
              "    }\n",
              "</style>\n",
              "<table border=\"1\" class=\"dataframe\">\n",
              "  <thead>\n",
              "    <tr style=\"text-align: right;\">\n",
              "      <th></th>\n",
              "      <th>0</th>\n",
              "      <th>1</th>\n",
              "      <th>2</th>\n",
              "      <th>3</th>\n",
              "      <th>6</th>\n",
              "      <th>7</th>\n",
              "      <th>8</th>\n",
              "      <th>10</th>\n",
              "      <th>11</th>\n",
              "      <th>12</th>\n",
              "      <th>13</th>\n",
              "      <th>15</th>\n",
              "      <th>16</th>\n",
              "      <th>17</th>\n",
              "      <th>18</th>\n",
              "      <th>19</th>\n",
              "      <th>21</th>\n",
              "      <th>24</th>\n",
              "      <th>25</th>\n",
              "    </tr>\n",
              "  </thead>\n",
              "  <tbody>\n",
              "    <tr>\n",
              "      <th>0</th>\n",
              "      <td>1</td>\n",
              "      <td>1</td>\n",
              "      <td>-0.0007</td>\n",
              "      <td>-0.0004</td>\n",
              "      <td>641.82</td>\n",
              "      <td>1589.70</td>\n",
              "      <td>1400.60</td>\n",
              "      <td>21.61</td>\n",
              "      <td>554.36</td>\n",
              "      <td>2388.06</td>\n",
              "      <td>9046.19</td>\n",
              "      <td>47.47</td>\n",
              "      <td>521.66</td>\n",
              "      <td>2388.02</td>\n",
              "      <td>8138.62</td>\n",
              "      <td>8.4195</td>\n",
              "      <td>392</td>\n",
              "      <td>39.06</td>\n",
              "      <td>23.4190</td>\n",
              "    </tr>\n",
              "    <tr>\n",
              "      <th>1</th>\n",
              "      <td>1</td>\n",
              "      <td>2</td>\n",
              "      <td>0.0019</td>\n",
              "      <td>-0.0003</td>\n",
              "      <td>642.15</td>\n",
              "      <td>1591.82</td>\n",
              "      <td>1403.14</td>\n",
              "      <td>21.61</td>\n",
              "      <td>553.75</td>\n",
              "      <td>2388.04</td>\n",
              "      <td>9044.07</td>\n",
              "      <td>47.49</td>\n",
              "      <td>522.28</td>\n",
              "      <td>2388.07</td>\n",
              "      <td>8131.49</td>\n",
              "      <td>8.4318</td>\n",
              "      <td>392</td>\n",
              "      <td>39.00</td>\n",
              "      <td>23.4236</td>\n",
              "    </tr>\n",
              "    <tr>\n",
              "      <th>2</th>\n",
              "      <td>1</td>\n",
              "      <td>3</td>\n",
              "      <td>-0.0043</td>\n",
              "      <td>0.0003</td>\n",
              "      <td>642.35</td>\n",
              "      <td>1587.99</td>\n",
              "      <td>1404.20</td>\n",
              "      <td>21.61</td>\n",
              "      <td>554.26</td>\n",
              "      <td>2388.08</td>\n",
              "      <td>9052.94</td>\n",
              "      <td>47.27</td>\n",
              "      <td>522.42</td>\n",
              "      <td>2388.03</td>\n",
              "      <td>8133.23</td>\n",
              "      <td>8.4178</td>\n",
              "      <td>390</td>\n",
              "      <td>38.95</td>\n",
              "      <td>23.3442</td>\n",
              "    </tr>\n",
              "    <tr>\n",
              "      <th>3</th>\n",
              "      <td>1</td>\n",
              "      <td>4</td>\n",
              "      <td>0.0007</td>\n",
              "      <td>0.0000</td>\n",
              "      <td>642.35</td>\n",
              "      <td>1582.79</td>\n",
              "      <td>1401.87</td>\n",
              "      <td>21.61</td>\n",
              "      <td>554.45</td>\n",
              "      <td>2388.11</td>\n",
              "      <td>9049.48</td>\n",
              "      <td>47.13</td>\n",
              "      <td>522.86</td>\n",
              "      <td>2388.08</td>\n",
              "      <td>8133.83</td>\n",
              "      <td>8.3682</td>\n",
              "      <td>392</td>\n",
              "      <td>38.88</td>\n",
              "      <td>23.3739</td>\n",
              "    </tr>\n",
              "    <tr>\n",
              "      <th>4</th>\n",
              "      <td>1</td>\n",
              "      <td>5</td>\n",
              "      <td>-0.0019</td>\n",
              "      <td>-0.0002</td>\n",
              "      <td>642.37</td>\n",
              "      <td>1582.85</td>\n",
              "      <td>1406.22</td>\n",
              "      <td>21.61</td>\n",
              "      <td>554.00</td>\n",
              "      <td>2388.06</td>\n",
              "      <td>9055.15</td>\n",
              "      <td>47.28</td>\n",
              "      <td>522.19</td>\n",
              "      <td>2388.04</td>\n",
              "      <td>8133.80</td>\n",
              "      <td>8.4294</td>\n",
              "      <td>393</td>\n",
              "      <td>38.90</td>\n",
              "      <td>23.4044</td>\n",
              "    </tr>\n",
              "  </tbody>\n",
              "</table>\n",
              "</div>"
            ],
            "text/plain": [
              "   0   1       2       3       6   ...       18      19   21     24       25\n",
              "0   1   1 -0.0007 -0.0004  641.82  ...  8138.62  8.4195  392  39.06  23.4190\n",
              "1   1   2  0.0019 -0.0003  642.15  ...  8131.49  8.4318  392  39.00  23.4236\n",
              "2   1   3 -0.0043  0.0003  642.35  ...  8133.23  8.4178  390  38.95  23.3442\n",
              "3   1   4  0.0007  0.0000  642.35  ...  8133.83  8.3682  392  38.88  23.3739\n",
              "4   1   5 -0.0019 -0.0002  642.37  ...  8133.80  8.4294  393  38.90  23.4044\n",
              "\n",
              "[5 rows x 19 columns]"
            ]
          },
          "metadata": {
            "tags": []
          },
          "execution_count": 31
        }
      ]
    },
    {
      "cell_type": "code",
      "metadata": {
        "id": "crZCtKML8_n0",
        "colab_type": "code",
        "colab": {}
      },
      "source": [
        "normilized_df_train = (df_train-df_train.min())/(df_train.max()-df_train.min())\n",
        "normilized_df_test = (df_test-df_test.min())/(df_test.max()-df_test.min())"
      ],
      "execution_count": 0,
      "outputs": []
    },
    {
      "cell_type": "code",
      "metadata": {
        "id": "TgJQpXUixarI",
        "colab_type": "code",
        "colab": {}
      },
      "source": [
        "Y_train = normilized_df_train.iloc[:,1]\n",
        "X_train = normilized_df_train.drop(df_train.columns[[1]], axis=1)\n",
        "\n",
        "Y_test = normilized_df_test.iloc[:,1]\n",
        "X_test = normilized_df_test.drop(df_test.columns[[1]], axis=1)"
      ],
      "execution_count": 0,
      "outputs": []
    },
    {
      "cell_type": "code",
      "metadata": {
        "id": "OJlzNWXu2iE6",
        "colab_type": "code",
        "outputId": "c478dc8a-62dd-44dd-eda8-ab837d120d47",
        "colab": {
          "base_uri": "https://localhost:8080/",
          "height": 195
        }
      },
      "source": [
        "X_train.head()"
      ],
      "execution_count": 0,
      "outputs": [
        {
          "output_type": "execute_result",
          "data": {
            "text/html": [
              "<div>\n",
              "<style scoped>\n",
              "    .dataframe tbody tr th:only-of-type {\n",
              "        vertical-align: middle;\n",
              "    }\n",
              "\n",
              "    .dataframe tbody tr th {\n",
              "        vertical-align: top;\n",
              "    }\n",
              "\n",
              "    .dataframe thead th {\n",
              "        text-align: right;\n",
              "    }\n",
              "</style>\n",
              "<table border=\"1\" class=\"dataframe\">\n",
              "  <thead>\n",
              "    <tr style=\"text-align: right;\">\n",
              "      <th></th>\n",
              "      <th>0</th>\n",
              "      <th>2</th>\n",
              "      <th>3</th>\n",
              "      <th>6</th>\n",
              "      <th>7</th>\n",
              "      <th>8</th>\n",
              "      <th>10</th>\n",
              "      <th>11</th>\n",
              "      <th>12</th>\n",
              "      <th>13</th>\n",
              "      <th>15</th>\n",
              "      <th>16</th>\n",
              "      <th>17</th>\n",
              "      <th>18</th>\n",
              "      <th>19</th>\n",
              "      <th>21</th>\n",
              "      <th>24</th>\n",
              "      <th>25</th>\n",
              "    </tr>\n",
              "  </thead>\n",
              "  <tbody>\n",
              "    <tr>\n",
              "      <th>0</th>\n",
              "      <td>0.0</td>\n",
              "      <td>0.459770</td>\n",
              "      <td>0.166667</td>\n",
              "      <td>0.183735</td>\n",
              "      <td>0.406802</td>\n",
              "      <td>0.309757</td>\n",
              "      <td>1.0</td>\n",
              "      <td>0.726248</td>\n",
              "      <td>0.242424</td>\n",
              "      <td>0.109755</td>\n",
              "      <td>0.369048</td>\n",
              "      <td>0.633262</td>\n",
              "      <td>0.205882</td>\n",
              "      <td>0.199608</td>\n",
              "      <td>0.363986</td>\n",
              "      <td>0.333333</td>\n",
              "      <td>0.713178</td>\n",
              "      <td>0.724662</td>\n",
              "    </tr>\n",
              "    <tr>\n",
              "      <th>1</th>\n",
              "      <td>0.0</td>\n",
              "      <td>0.609195</td>\n",
              "      <td>0.250000</td>\n",
              "      <td>0.283133</td>\n",
              "      <td>0.453019</td>\n",
              "      <td>0.352633</td>\n",
              "      <td>1.0</td>\n",
              "      <td>0.628019</td>\n",
              "      <td>0.212121</td>\n",
              "      <td>0.100242</td>\n",
              "      <td>0.380952</td>\n",
              "      <td>0.765458</td>\n",
              "      <td>0.279412</td>\n",
              "      <td>0.162813</td>\n",
              "      <td>0.411312</td>\n",
              "      <td>0.333333</td>\n",
              "      <td>0.666667</td>\n",
              "      <td>0.731014</td>\n",
              "    </tr>\n",
              "    <tr>\n",
              "      <th>2</th>\n",
              "      <td>0.0</td>\n",
              "      <td>0.252874</td>\n",
              "      <td>0.750000</td>\n",
              "      <td>0.343373</td>\n",
              "      <td>0.369523</td>\n",
              "      <td>0.370527</td>\n",
              "      <td>1.0</td>\n",
              "      <td>0.710145</td>\n",
              "      <td>0.272727</td>\n",
              "      <td>0.140043</td>\n",
              "      <td>0.250000</td>\n",
              "      <td>0.795309</td>\n",
              "      <td>0.220588</td>\n",
              "      <td>0.171793</td>\n",
              "      <td>0.357445</td>\n",
              "      <td>0.166667</td>\n",
              "      <td>0.627907</td>\n",
              "      <td>0.621375</td>\n",
              "    </tr>\n",
              "    <tr>\n",
              "      <th>3</th>\n",
              "      <td>0.0</td>\n",
              "      <td>0.540230</td>\n",
              "      <td>0.500000</td>\n",
              "      <td>0.343373</td>\n",
              "      <td>0.256159</td>\n",
              "      <td>0.331195</td>\n",
              "      <td>1.0</td>\n",
              "      <td>0.740741</td>\n",
              "      <td>0.318182</td>\n",
              "      <td>0.124518</td>\n",
              "      <td>0.166667</td>\n",
              "      <td>0.889126</td>\n",
              "      <td>0.294118</td>\n",
              "      <td>0.174889</td>\n",
              "      <td>0.166603</td>\n",
              "      <td>0.333333</td>\n",
              "      <td>0.573643</td>\n",
              "      <td>0.662386</td>\n",
              "    </tr>\n",
              "    <tr>\n",
              "      <th>4</th>\n",
              "      <td>0.0</td>\n",
              "      <td>0.390805</td>\n",
              "      <td>0.333333</td>\n",
              "      <td>0.349398</td>\n",
              "      <td>0.257467</td>\n",
              "      <td>0.404625</td>\n",
              "      <td>1.0</td>\n",
              "      <td>0.668277</td>\n",
              "      <td>0.242424</td>\n",
              "      <td>0.149960</td>\n",
              "      <td>0.255952</td>\n",
              "      <td>0.746269</td>\n",
              "      <td>0.235294</td>\n",
              "      <td>0.174734</td>\n",
              "      <td>0.402078</td>\n",
              "      <td>0.416667</td>\n",
              "      <td>0.589147</td>\n",
              "      <td>0.704502</td>\n",
              "    </tr>\n",
              "  </tbody>\n",
              "</table>\n",
              "</div>"
            ],
            "text/plain": [
              "    0         2         3         6   ...        19        21        24        25\n",
              "0  0.0  0.459770  0.166667  0.183735  ...  0.363986  0.333333  0.713178  0.724662\n",
              "1  0.0  0.609195  0.250000  0.283133  ...  0.411312  0.333333  0.666667  0.731014\n",
              "2  0.0  0.252874  0.750000  0.343373  ...  0.357445  0.166667  0.627907  0.621375\n",
              "3  0.0  0.540230  0.500000  0.343373  ...  0.166603  0.333333  0.573643  0.662386\n",
              "4  0.0  0.390805  0.333333  0.349398  ...  0.402078  0.416667  0.589147  0.704502\n",
              "\n",
              "[5 rows x 18 columns]"
            ]
          },
          "metadata": {
            "tags": []
          },
          "execution_count": 35
        }
      ]
    },
    {
      "cell_type": "code",
      "metadata": {
        "id": "8cSZSBmkzAOg",
        "colab_type": "code",
        "colab": {}
      },
      "source": [
        " X_train = X_train.to_numpy().reshape(X_train.shape[0], X_train.shape[1], 1)\n",
        " X_test = X_test.to_numpy().reshape(X_test.shape[0], X_test.shape[1], 1)\n",
        "\n",
        " Y_train = Y_train.to_numpy().reshape(Y_train.shape[0], 1)\n",
        " Y_test = Y_test.to_numpy().reshape(Y_test.shape[0], 1)"
      ],
      "execution_count": 0,
      "outputs": []
    },
    {
      "cell_type": "code",
      "metadata": {
        "id": "yi9YwVvFxa2k",
        "colab_type": "code",
        "outputId": "63d4e329-63dd-4bcd-e250-a3978643f4dc",
        "colab": {
          "base_uri": "https://localhost:8080/",
          "height": 218
        }
      },
      "source": [
        "model = Sequential() \n",
        "model.add(LSTM(100, return_sequences=True, input_shape = (24, 1)))\n",
        "model.add(Dense(1, activation = 'relu'))\n",
        "model.compile(loss='mse', optimizer='adam' )\n",
        "model.summary()"
      ],
      "execution_count": 0,
      "outputs": [
        {
          "output_type": "stream",
          "text": [
            "Model: \"sequential_3\"\n",
            "_________________________________________________________________\n",
            "Layer (type)                 Output Shape              Param #   \n",
            "=================================================================\n",
            "lstm_3 (LSTM)                (None, 24, 100)           40800     \n",
            "_________________________________________________________________\n",
            "dense_3 (Dense)              (None, 24, 1)             101       \n",
            "=================================================================\n",
            "Total params: 40,901\n",
            "Trainable params: 40,901\n",
            "Non-trainable params: 0\n",
            "_________________________________________________________________\n"
          ],
          "name": "stdout"
        }
      ]
    },
    {
      "cell_type": "code",
      "metadata": {
        "id": "sdYx1pWnEbqW",
        "colab_type": "code",
        "colab": {}
      },
      "source": [
        "es = EarlyStopping(monitor='val_loss', mode='min', verbose=1)"
      ],
      "execution_count": 0,
      "outputs": []
    },
    {
      "cell_type": "code",
      "metadata": {
        "id": "2wsDetGw9iT4",
        "colab_type": "code",
        "outputId": "17c75cf5-e878-4b24-e90e-2eb50fbcc56d",
        "colab": {
          "base_uri": "https://localhost:8080/",
          "height": 222
        }
      },
      "source": [
        "model.fit(X_train, Y_train, epochs=20, validation_data=(X_test, Y_test), batch_size=32, verbose=1, callbacks=[es])"
      ],
      "execution_count": 0,
      "outputs": [
        {
          "output_type": "stream",
          "text": [
            "Epoch 1/20\n",
            "WARNING:tensorflow:Model was constructed with shape (None, 24, 1) for input Tensor(\"lstm_3_input:0\", shape=(None, 24, 1), dtype=float32), but it was called on an input with incompatible shape (None, 18, 1).\n",
            "WARNING:tensorflow:Model was constructed with shape (None, 24, 1) for input Tensor(\"lstm_3_input:0\", shape=(None, 24, 1), dtype=float32), but it was called on an input with incompatible shape (None, 18, 1).\n",
            "2576/2579 [============================>.] - ETA: 0s - loss: 0.0273WARNING:tensorflow:Model was constructed with shape (None, 24, 1) for input Tensor(\"lstm_3_input:0\", shape=(None, 24, 1), dtype=float32), but it was called on an input with incompatible shape (32, 18, 1).\n",
            "2579/2579 [==============================] - 43s 17ms/step - loss: 0.0273 - val_loss: 0.0364\n",
            "Epoch 2/20\n",
            "2579/2579 [==============================] - 42s 16ms/step - loss: 0.0222 - val_loss: 0.0356\n",
            "Epoch 3/20\n",
            "2579/2579 [==============================] - 42s 16ms/step - loss: 0.0213 - val_loss: 0.0365\n",
            "Epoch 00003: early stopping\n"
          ],
          "name": "stdout"
        },
        {
          "output_type": "execute_result",
          "data": {
            "text/plain": [
              "<tensorflow.python.keras.callbacks.History at 0x7f589120ec50>"
            ]
          },
          "metadata": {
            "tags": []
          },
          "execution_count": 50
        }
      ]
    }
  ]
}