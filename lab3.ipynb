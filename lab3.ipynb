{
  "nbformat": 4,
  "nbformat_minor": 0,
  "metadata": {
    "colab": {
      "name": "lab3.ipynb",
      "provenance": [],
      "toc_visible": true,
      "mount_file_id": "https://github.com/arinadubinich/NeuralNetworks-spring2020/blob/master/lab3.ipynb",
      "authorship_tag": "ABX9TyMhFAQpfEngofz4nDJF5IE7",
      "include_colab_link": true
    },
    "kernelspec": {
      "name": "python3",
      "display_name": "Python 3"
    }
  },
  "cells": [
    {
      "cell_type": "markdown",
      "metadata": {
        "id": "view-in-github",
        "colab_type": "text"
      },
      "source": [
        "<a href=\"https://colab.research.google.com/github/arinadubinich/NeuralNetworks-spring2020/blob/master/lab3.ipynb\" target=\"_parent\"><img src=\"https://colab.research.google.com/assets/colab-badge.svg\" alt=\"Open In Colab\"/></a>"
      ]
    },
    {
      "cell_type": "markdown",
      "metadata": {
        "id": "QaDL_MAf_vfg",
        "colab_type": "text"
      },
      "source": [
        "# Dubinich Arina, PM-41\n"
      ]
    },
    {
      "cell_type": "markdown",
      "metadata": {
        "id": "FrE62B3k_3Xc",
        "colab_type": "text"
      },
      "source": [
        "# Task 1\n"
      ]
    },
    {
      "cell_type": "code",
      "metadata": {
        "id": "wYK5mAuZqCEs",
        "colab_type": "code",
        "colab": {}
      },
      "source": [
        "from tensorflow.keras.models import Sequential\n",
        "from tensorflow.keras.models import Model\n",
        "from tensorflow.keras.layers import Dense, Dropout, LSTM, Embedding, SpatialDropout1D, Input, Activation, BatchNormalization\n",
        "from tensorflow.keras.regularizers import l1, l2\n",
        "from tensorflow.keras.callbacks import EarlyStopping\n",
        "from sklearn.preprocessing import LabelEncoder\n",
        "from tensorflow.keras.preprocessing.text import Tokenizer\n",
        "from keras.preprocessing import sequence\n",
        "\n",
        "\n",
        "from sklearn.model_selection import train_test_split\n",
        "\n",
        "import pandas as pd\n",
        "import numpy as np"
      ],
      "execution_count": 0,
      "outputs": []
    },
    {
      "cell_type": "code",
      "metadata": {
        "id": "fsqoMW3O6voT",
        "colab_type": "code",
        "colab": {}
      },
      "source": [
        "df = pd.read_csv('drive/My Drive/data_text_classification.csv', sep=';')"
      ],
      "execution_count": 0,
      "outputs": []
    },
    {
      "cell_type": "code",
      "metadata": {
        "id": "8UJ_3g4s83jk",
        "colab_type": "code",
        "outputId": "3ea6c9e2-c5dc-450e-9b50-a9a8570ce51e",
        "colab": {
          "base_uri": "https://localhost:8080/",
          "height": 195
        }
      },
      "source": [
        "df.head()"
      ],
      "execution_count": 0,
      "outputs": [
        {
          "output_type": "execute_result",
          "data": {
            "text/html": [
              "<div>\n",
              "<style scoped>\n",
              "    .dataframe tbody tr th:only-of-type {\n",
              "        vertical-align: middle;\n",
              "    }\n",
              "\n",
              "    .dataframe tbody tr th {\n",
              "        vertical-align: top;\n",
              "    }\n",
              "\n",
              "    .dataframe thead th {\n",
              "        text-align: right;\n",
              "    }\n",
              "</style>\n",
              "<table border=\"1\" class=\"dataframe\">\n",
              "  <thead>\n",
              "    <tr style=\"text-align: right;\">\n",
              "      <th></th>\n",
              "      <th>Текст</th>\n",
              "      <th>Тип текста</th>\n",
              "    </tr>\n",
              "  </thead>\n",
              "  <tbody>\n",
              "    <tr>\n",
              "      <th>0</th>\n",
              "      <td>Стратегическое управление можно представить в ...</td>\n",
              "      <td>Научный</td>\n",
              "    </tr>\n",
              "    <tr>\n",
              "      <th>1</th>\n",
              "      <td>Важным шагом успешного решения проблемы разраб...</td>\n",
              "      <td>Научный</td>\n",
              "    </tr>\n",
              "    <tr>\n",
              "      <th>2</th>\n",
              "      <td>Разработка методов математического моделирован...</td>\n",
              "      <td>Научный</td>\n",
              "    </tr>\n",
              "    <tr>\n",
              "      <th>3</th>\n",
              "      <td>Идея такого подхода состоит в декомпозиции сло...</td>\n",
              "      <td>Научный</td>\n",
              "    </tr>\n",
              "    <tr>\n",
              "      <th>4</th>\n",
              "      <td>Декомпозиция осуществляется путем минимизации ...</td>\n",
              "      <td>Научный</td>\n",
              "    </tr>\n",
              "  </tbody>\n",
              "</table>\n",
              "</div>"
            ],
            "text/plain": [
              "                                               Текст Тип текста\n",
              "0  Стратегическое управление можно представить в ...    Научный\n",
              "1  Важным шагом успешного решения проблемы разраб...    Научный\n",
              "2  Разработка методов математического моделирован...    Научный\n",
              "3  Идея такого подхода состоит в декомпозиции сло...    Научный\n",
              "4  Декомпозиция осуществляется путем минимизации ...    Научный"
            ]
          },
          "metadata": {
            "tags": []
          },
          "execution_count": 167
        }
      ]
    },
    {
      "cell_type": "code",
      "metadata": {
        "id": "32jdJPwyDyLK",
        "colab_type": "code",
        "outputId": "0665c55b-9ffb-4f7b-ca8d-1baea4d83883",
        "colab": {
          "base_uri": "https://localhost:8080/",
          "height": 34
        }
      },
      "source": [
        "X = df['Текст']\n",
        "Y = pd.get_dummies(df['Тип текста']).values"
      ],
      "execution_count": 0,
      "outputs": [
        {
          "output_type": "stream",
          "text": [
            "Shape of label tensor: (160, 3)\n"
          ],
          "name": "stdout"
        }
      ]
    },
    {
      "cell_type": "code",
      "metadata": {
        "id": "C3z39RHt6vwP",
        "colab_type": "code",
        "colab": {}
      },
      "source": [
        "X_train, X_test, Y_train, Y_test = train_test_split(X, Y, test_size = 0.2)"
      ],
      "execution_count": 0,
      "outputs": []
    },
    {
      "cell_type": "code",
      "metadata": {
        "id": "DG0oRa6J_h1h",
        "colab_type": "code",
        "outputId": "a15e2a7a-44a3-47dc-aa0d-92e7a421f18a",
        "colab": {
          "base_uri": "https://localhost:8080/",
          "height": 50
        }
      },
      "source": [
        "print(X_train.shape,Y_train.shape)\n",
        "print(X_test.shape,Y_test.shape)"
      ],
      "execution_count": 0,
      "outputs": [
        {
          "output_type": "stream",
          "text": [
            "(128,) (128, 3)\n",
            "(32,) (32, 3)\n"
          ],
          "name": "stdout"
        }
      ]
    },
    {
      "cell_type": "code",
      "metadata": {
        "id": "PSyU3rlU_h-B",
        "colab_type": "code",
        "outputId": "1560d5e7-f363-4c5f-a8eb-9b017d7515b8",
        "colab": {
          "base_uri": "https://localhost:8080/",
          "height": 34
        }
      },
      "source": [
        "max_words = 1000\n",
        "max_len = 150\n",
        "tok = Tokenizer(num_words=max_words)\n",
        "tok.fit_on_texts(X_train)\n",
        "sequences = tok.texts_to_sequences(X_train)\n",
        "sequences_matrix = sequence.pad_sequences(sequences,maxlen=max_len)\n",
        "print('Shape of data tensor:', sequences_matrix.shape)"
      ],
      "execution_count": 0,
      "outputs": [
        {
          "output_type": "stream",
          "text": [
            "Shape of data tensor: (128, 150)\n"
          ],
          "name": "stdout"
        }
      ]
    },
    {
      "cell_type": "code",
      "metadata": {
        "id": "oiJe8oGsia63",
        "colab_type": "code",
        "colab": {}
      },
      "source": [
        "test_sequences = tok.texts_to_sequences(X_test)\n",
        "test_sequences_matrix = sequence.pad_sequences(test_sequences,maxlen=max_len)"
      ],
      "execution_count": 0,
      "outputs": []
    },
    {
      "cell_type": "code",
      "metadata": {
        "id": "T8Y63iOO_iHZ",
        "colab_type": "code",
        "colab": {}
      },
      "source": [
        "def getModel():\n",
        "    inputs = Input(name='inputs',shape=[max_len])\n",
        "    layer = Embedding(max_words,50,input_length=max_len)(inputs)\n",
        "    layer = LSTM(64)(layer)\n",
        "    layer = Dense(256)(layer)\n",
        "    layer = Activation('relu')(layer)\n",
        "    layer = Dropout(0.5)(layer)\n",
        "    layer = Dense(3,name='out_layer')(layer)\n",
        "    layer = Activation('sigmoid')(layer)\n",
        "    model = Model(inputs=inputs,outputs=layer)\n",
        "    return model"
      ],
      "execution_count": 0,
      "outputs": []
    },
    {
      "cell_type": "code",
      "metadata": {
        "id": "CLF8Q-JPZgwv",
        "colab_type": "code",
        "outputId": "c6dff09a-60ac-4784-a2cf-df5a12090ac8",
        "colab": {
          "base_uri": "https://localhost:8080/",
          "height": 420
        }
      },
      "source": [
        "model = getModel()\n",
        "model.summary()\n",
        "model.compile(loss='categorical_crossentropy',optimizer='adam', metrics=['accuracy'])"
      ],
      "execution_count": 0,
      "outputs": [
        {
          "output_type": "stream",
          "text": [
            "Model: \"model_6\"\n",
            "_________________________________________________________________\n",
            "Layer (type)                 Output Shape              Param #   \n",
            "=================================================================\n",
            "inputs (InputLayer)          [(None, 150)]             0         \n",
            "_________________________________________________________________\n",
            "embedding_12 (Embedding)     (None, 150, 50)           50000     \n",
            "_________________________________________________________________\n",
            "lstm_11 (LSTM)               (None, 64)                29440     \n",
            "_________________________________________________________________\n",
            "dense_6 (Dense)              (None, 256)               16640     \n",
            "_________________________________________________________________\n",
            "activation_16 (Activation)   (None, 256)               0         \n",
            "_________________________________________________________________\n",
            "dropout_8 (Dropout)          (None, 256)               0         \n",
            "_________________________________________________________________\n",
            "out_layer (Dense)            (None, 3)                 771       \n",
            "_________________________________________________________________\n",
            "activation_17 (Activation)   (None, 3)                 0         \n",
            "=================================================================\n",
            "Total params: 96,851\n",
            "Trainable params: 96,851\n",
            "Non-trainable params: 0\n",
            "_________________________________________________________________\n"
          ],
          "name": "stdout"
        }
      ]
    },
    {
      "cell_type": "code",
      "metadata": {
        "id": "HfigWUoGVPc5",
        "colab_type": "code",
        "colab": {}
      },
      "source": [
        "es = EarlyStopping(monitor='val_loss', mode='min', verbose=1)"
      ],
      "execution_count": 0,
      "outputs": []
    },
    {
      "cell_type": "code",
      "metadata": {
        "id": "qW-CiF6r_iPz",
        "colab_type": "code",
        "outputId": "c4c1f0c8-79a6-4ffa-9c99-4f490ece7a92",
        "colab": {
          "base_uri": "https://localhost:8080/",
          "height": 504
        }
      },
      "source": [
        "history = model.fit(sequences_matrix, Y_train, epochs=40, batch_size=25,validation_split=0.1,callbacks=[es])"
      ],
      "execution_count": 0,
      "outputs": [
        {
          "output_type": "stream",
          "text": [
            "Epoch 1/40\n",
            "5/5 [==============================] - 1s 140ms/step - loss: 1.0973 - accuracy: 0.3826 - val_loss: 1.0961 - val_accuracy: 0.4615\n",
            "Epoch 2/40\n",
            "5/5 [==============================] - 0s 71ms/step - loss: 1.0903 - accuracy: 0.5565 - val_loss: 1.0895 - val_accuracy: 0.5385\n",
            "Epoch 3/40\n",
            "5/5 [==============================] - 0s 63ms/step - loss: 1.0795 - accuracy: 0.6522 - val_loss: 1.0786 - val_accuracy: 0.4615\n",
            "Epoch 4/40\n",
            "5/5 [==============================] - 0s 65ms/step - loss: 1.0526 - accuracy: 0.6957 - val_loss: 1.0485 - val_accuracy: 0.4615\n",
            "Epoch 5/40\n",
            "5/5 [==============================] - 0s 65ms/step - loss: 0.9957 - accuracy: 0.6696 - val_loss: 0.9887 - val_accuracy: 0.4615\n",
            "Epoch 6/40\n",
            "5/5 [==============================] - 0s 64ms/step - loss: 0.8726 - accuracy: 0.7130 - val_loss: 0.8941 - val_accuracy: 0.5385\n",
            "Epoch 7/40\n",
            "5/5 [==============================] - 0s 67ms/step - loss: 0.7316 - accuracy: 0.7391 - val_loss: 0.7598 - val_accuracy: 0.6154\n",
            "Epoch 8/40\n",
            "5/5 [==============================] - 0s 67ms/step - loss: 1.3533 - accuracy: 0.6957 - val_loss: 0.6993 - val_accuracy: 0.6154\n",
            "Epoch 9/40\n",
            "5/5 [==============================] - 0s 67ms/step - loss: 0.5648 - accuracy: 0.7913 - val_loss: 0.6628 - val_accuracy: 0.6923\n",
            "Epoch 10/40\n",
            "5/5 [==============================] - 0s 65ms/step - loss: 0.5050 - accuracy: 0.9130 - val_loss: 0.5944 - val_accuracy: 0.6923\n",
            "Epoch 11/40\n",
            "5/5 [==============================] - 0s 66ms/step - loss: 0.4663 - accuracy: 0.9739 - val_loss: 0.5369 - val_accuracy: 0.8462\n",
            "Epoch 12/40\n",
            "5/5 [==============================] - 0s 66ms/step - loss: 0.3844 - accuracy: 0.9913 - val_loss: 0.4888 - val_accuracy: 0.6923\n",
            "Epoch 13/40\n",
            "5/5 [==============================] - 0s 66ms/step - loss: 0.2852 - accuracy: 0.9652 - val_loss: 0.4261 - val_accuracy: 0.8462\n",
            "Epoch 14/40\n",
            "5/5 [==============================] - 0s 75ms/step - loss: 0.1724 - accuracy: 0.9826 - val_loss: 0.4536 - val_accuracy: 0.8462\n",
            "Epoch 00014: early stopping\n"
          ],
          "name": "stdout"
        }
      ]
    },
    {
      "cell_type": "code",
      "metadata": {
        "id": "PVVDbrzph1oq",
        "colab_type": "code",
        "outputId": "46953910-1688-4218-9e0c-7c5c0c4be1af",
        "colab": {
          "base_uri": "https://localhost:8080/",
          "height": 34
        }
      },
      "source": [
        "acc = model.evaluate(test_sequences_matrix,Y_test)"
      ],
      "execution_count": 0,
      "outputs": [
        {
          "output_type": "stream",
          "text": [
            "1/1 [==============================] - 0s 1ms/step - loss: 0.4818 - accuracy: 0.7812\n"
          ],
          "name": "stdout"
        }
      ]
    },
    {
      "cell_type": "code",
      "metadata": {
        "id": "xz5SKgEnh147",
        "colab_type": "code",
        "outputId": "e277ca46-21a3-4f32-bef4-2bec830a478f",
        "colab": {
          "base_uri": "https://localhost:8080/",
          "height": 67
        }
      },
      "source": [
        "print('Test set\\n  Loss: {:0.3f}\\n  Accuracy: {:0.3f}'.format(acc[0],acc[1]))"
      ],
      "execution_count": 0,
      "outputs": [
        {
          "output_type": "stream",
          "text": [
            "Test set\n",
            "  Loss: 0.482\n",
            "  Accuracy: 0.781\n"
          ],
          "name": "stdout"
        }
      ]
    },
    {
      "cell_type": "markdown",
      "metadata": {
        "id": "EbEPiL8PwA_c",
        "colab_type": "text"
      },
      "source": [
        "# Task 2 \n",
        "Download data:  https://ti.arc.nasa.gov/c/6/\n",
        "\n"
      ]
    },
    {
      "cell_type": "code",
      "metadata": {
        "id": "quDZ8qgOqCdG",
        "colab_type": "code",
        "colab": {}
      },
      "source": [
        " df_train = pd.concat([\n",
        "     pd.read_csv('drive/My Drive/CMAPSSData/train_FD001.txt', sep = ' ', header=None),\n",
        "     #pd.read_csv('drive/My Drive/CMAPSSData/train_FD001.txt', sep = ' ', header=None),\n",
        "     #pd.read_csv('drive/My Drive/CMAPSSData/train_FD001.txt', sep = ' ', header=None),\n",
        "     #pd.read_csv('drive/My Drive/CMAPSSData/train_FD001.txt', sep = ' ', header=None)\n",
        " ]).reset_index()\n",
        " df_train.drop(columns='index', inplace=True)"
      ],
      "execution_count": 0,
      "outputs": []
    },
    {
      "cell_type": "code",
      "metadata": {
        "id": "4tcbDh5bxaX_",
        "colab_type": "code",
        "colab": {}
      },
      "source": [
        "df_test = pd.concat([\n",
        "    pd.read_csv('drive/My Drive/CMAPSSData/test_FD001.txt', sep = ' ', header=None),\n",
        "    #pd.read_csv('drive/My Drive/CMAPSSData/test_FD001.txt', sep = ' ', header=None),\n",
        "    #pd.read_csv('drive/My Drive/CMAPSSData/test_FD001.txt', sep = ' ', header=None),\n",
        "    #pd.read_csv('drive/My Drive/CMAPSSData/test_FD001.txt', sep = ' ', header=None)\n",
        "]).reset_index()\n",
        "df_test.drop(columns='index', inplace=True)"
      ],
      "execution_count": 0,
      "outputs": []
    },
    {
      "cell_type": "code",
      "metadata": {
        "id": "5U9DWlVyPFbx",
        "colab_type": "code",
        "colab": {}
      },
      "source": [
        "df_test_target = pd.concat([\n",
        "     pd.read_csv('drive/My Drive/CMAPSSData/RUL_FD001.txt', sep = ' ', header=None),\n",
        "     #pd.read_csv('drive/My Drive/CMAPSSData/RUL_FD001.txt', sep = ' ', header=None),\n",
        "     #pd.read_csv('drive/My Drive/CMAPSSData/RUL_FD001.txt', sep = ' ', header=None),\n",
        "     #pd.read_csv('drive/My Drive/CMAPSSData/RUL_FD001.txt', sep = ' ', header=None)\n",
        " ]).reset_index()"
      ],
      "execution_count": 0,
      "outputs": []
    },
    {
      "cell_type": "code",
      "metadata": {
        "id": "PV4SLndpHFzy",
        "colab_type": "code",
        "colab": {}
      },
      "source": [
        "df_train.fillna(0, inplace=True);\n",
        "df_test.fillna(0, inplace=True)"
      ],
      "execution_count": 0,
      "outputs": []
    },
    {
      "cell_type": "code",
      "metadata": {
        "id": "IfzIQIGgTCKH",
        "colab_type": "code",
        "colab": {}
      },
      "source": [
        "cols = [ k for k in df_train.columns if df_train[k].nunique() == 1]\n",
        "df_train.drop(cols, inplace=True, axis=1)\n",
        "\n",
        "cols = [ k for k in df_test.columns if df_test[k].nunique() == 1]\n",
        "df_test.drop(cols, inplace=True, axis=1)"
      ],
      "execution_count": 0,
      "outputs": []
    },
    {
      "cell_type": "code",
      "metadata": {
        "id": "4wbQehGAsPLy",
        "colab_type": "code",
        "outputId": "a0203018-c139-4950-ef14-9469b7a818c8",
        "colab": {
          "base_uri": "https://localhost:8080/",
          "height": 195
        }
      },
      "source": [
        "df_train.head()"
      ],
      "execution_count": 75,
      "outputs": [
        {
          "output_type": "execute_result",
          "data": {
            "text/html": [
              "<div>\n",
              "<style scoped>\n",
              "    .dataframe tbody tr th:only-of-type {\n",
              "        vertical-align: middle;\n",
              "    }\n",
              "\n",
              "    .dataframe tbody tr th {\n",
              "        vertical-align: top;\n",
              "    }\n",
              "\n",
              "    .dataframe thead th {\n",
              "        text-align: right;\n",
              "    }\n",
              "</style>\n",
              "<table border=\"1\" class=\"dataframe\">\n",
              "  <thead>\n",
              "    <tr style=\"text-align: right;\">\n",
              "      <th></th>\n",
              "      <th>0</th>\n",
              "      <th>1</th>\n",
              "      <th>2</th>\n",
              "      <th>3</th>\n",
              "      <th>6</th>\n",
              "      <th>7</th>\n",
              "      <th>8</th>\n",
              "      <th>10</th>\n",
              "      <th>11</th>\n",
              "      <th>12</th>\n",
              "      <th>13</th>\n",
              "      <th>15</th>\n",
              "      <th>16</th>\n",
              "      <th>17</th>\n",
              "      <th>18</th>\n",
              "      <th>19</th>\n",
              "      <th>21</th>\n",
              "      <th>24</th>\n",
              "      <th>25</th>\n",
              "    </tr>\n",
              "  </thead>\n",
              "  <tbody>\n",
              "    <tr>\n",
              "      <th>0</th>\n",
              "      <td>1</td>\n",
              "      <td>1</td>\n",
              "      <td>-0.0007</td>\n",
              "      <td>-0.0004</td>\n",
              "      <td>641.82</td>\n",
              "      <td>1589.70</td>\n",
              "      <td>1400.60</td>\n",
              "      <td>21.61</td>\n",
              "      <td>554.36</td>\n",
              "      <td>2388.06</td>\n",
              "      <td>9046.19</td>\n",
              "      <td>47.47</td>\n",
              "      <td>521.66</td>\n",
              "      <td>2388.02</td>\n",
              "      <td>8138.62</td>\n",
              "      <td>8.4195</td>\n",
              "      <td>392</td>\n",
              "      <td>39.06</td>\n",
              "      <td>23.4190</td>\n",
              "    </tr>\n",
              "    <tr>\n",
              "      <th>1</th>\n",
              "      <td>1</td>\n",
              "      <td>2</td>\n",
              "      <td>0.0019</td>\n",
              "      <td>-0.0003</td>\n",
              "      <td>642.15</td>\n",
              "      <td>1591.82</td>\n",
              "      <td>1403.14</td>\n",
              "      <td>21.61</td>\n",
              "      <td>553.75</td>\n",
              "      <td>2388.04</td>\n",
              "      <td>9044.07</td>\n",
              "      <td>47.49</td>\n",
              "      <td>522.28</td>\n",
              "      <td>2388.07</td>\n",
              "      <td>8131.49</td>\n",
              "      <td>8.4318</td>\n",
              "      <td>392</td>\n",
              "      <td>39.00</td>\n",
              "      <td>23.4236</td>\n",
              "    </tr>\n",
              "    <tr>\n",
              "      <th>2</th>\n",
              "      <td>1</td>\n",
              "      <td>3</td>\n",
              "      <td>-0.0043</td>\n",
              "      <td>0.0003</td>\n",
              "      <td>642.35</td>\n",
              "      <td>1587.99</td>\n",
              "      <td>1404.20</td>\n",
              "      <td>21.61</td>\n",
              "      <td>554.26</td>\n",
              "      <td>2388.08</td>\n",
              "      <td>9052.94</td>\n",
              "      <td>47.27</td>\n",
              "      <td>522.42</td>\n",
              "      <td>2388.03</td>\n",
              "      <td>8133.23</td>\n",
              "      <td>8.4178</td>\n",
              "      <td>390</td>\n",
              "      <td>38.95</td>\n",
              "      <td>23.3442</td>\n",
              "    </tr>\n",
              "    <tr>\n",
              "      <th>3</th>\n",
              "      <td>1</td>\n",
              "      <td>4</td>\n",
              "      <td>0.0007</td>\n",
              "      <td>0.0000</td>\n",
              "      <td>642.35</td>\n",
              "      <td>1582.79</td>\n",
              "      <td>1401.87</td>\n",
              "      <td>21.61</td>\n",
              "      <td>554.45</td>\n",
              "      <td>2388.11</td>\n",
              "      <td>9049.48</td>\n",
              "      <td>47.13</td>\n",
              "      <td>522.86</td>\n",
              "      <td>2388.08</td>\n",
              "      <td>8133.83</td>\n",
              "      <td>8.3682</td>\n",
              "      <td>392</td>\n",
              "      <td>38.88</td>\n",
              "      <td>23.3739</td>\n",
              "    </tr>\n",
              "    <tr>\n",
              "      <th>4</th>\n",
              "      <td>1</td>\n",
              "      <td>5</td>\n",
              "      <td>-0.0019</td>\n",
              "      <td>-0.0002</td>\n",
              "      <td>642.37</td>\n",
              "      <td>1582.85</td>\n",
              "      <td>1406.22</td>\n",
              "      <td>21.61</td>\n",
              "      <td>554.00</td>\n",
              "      <td>2388.06</td>\n",
              "      <td>9055.15</td>\n",
              "      <td>47.28</td>\n",
              "      <td>522.19</td>\n",
              "      <td>2388.04</td>\n",
              "      <td>8133.80</td>\n",
              "      <td>8.4294</td>\n",
              "      <td>393</td>\n",
              "      <td>38.90</td>\n",
              "      <td>23.4044</td>\n",
              "    </tr>\n",
              "  </tbody>\n",
              "</table>\n",
              "</div>"
            ],
            "text/plain": [
              "   0   1       2       3       6   ...       18      19   21     24       25\n",
              "0   1   1 -0.0007 -0.0004  641.82  ...  8138.62  8.4195  392  39.06  23.4190\n",
              "1   1   2  0.0019 -0.0003  642.15  ...  8131.49  8.4318  392  39.00  23.4236\n",
              "2   1   3 -0.0043  0.0003  642.35  ...  8133.23  8.4178  390  38.95  23.3442\n",
              "3   1   4  0.0007  0.0000  642.35  ...  8133.83  8.3682  392  38.88  23.3739\n",
              "4   1   5 -0.0019 -0.0002  642.37  ...  8133.80  8.4294  393  38.90  23.4044\n",
              "\n",
              "[5 rows x 19 columns]"
            ]
          },
          "metadata": {
            "tags": []
          },
          "execution_count": 75
        }
      ]
    },
    {
      "cell_type": "code",
      "metadata": {
        "id": "zmTi1HmtXAAY",
        "colab_type": "code",
        "colab": {}
      },
      "source": [
        "def normilize(df_train, df_test):\n",
        "  df_train_norm = (df_train-df_train.mean())/df_train.std()\n",
        "  df_train_norm[0] = df_train[0]\n",
        "  df_train_norm[1] = df_train[1]\n",
        "  df_test_norm = (df_test-df_train.mean())/df_train.std()\n",
        "  df_test_norm[0] = df_test[0]\n",
        "  df_test_norm[1] = df_test[1]\n",
        "\n",
        "  return df_train_norm, df_test_norm"
      ],
      "execution_count": 0,
      "outputs": []
    },
    {
      "cell_type": "code",
      "metadata": {
        "id": "9paQgK8uYPlv",
        "colab_type": "code",
        "colab": {}
      },
      "source": [
        "df_train, df_test = normilize(df_train, df_test)"
      ],
      "execution_count": 0,
      "outputs": []
    },
    {
      "cell_type": "code",
      "metadata": {
        "id": "sb36G8g6Ybkx",
        "colab_type": "code",
        "outputId": "660e2bcb-c01b-4bc3-eab9-1fe28808f69a",
        "colab": {
          "base_uri": "https://localhost:8080/",
          "height": 215
        }
      },
      "source": [
        "df_train.head()"
      ],
      "execution_count": 78,
      "outputs": [
        {
          "output_type": "execute_result",
          "data": {
            "text/html": [
              "<div>\n",
              "<style scoped>\n",
              "    .dataframe tbody tr th:only-of-type {\n",
              "        vertical-align: middle;\n",
              "    }\n",
              "\n",
              "    .dataframe tbody tr th {\n",
              "        vertical-align: top;\n",
              "    }\n",
              "\n",
              "    .dataframe thead th {\n",
              "        text-align: right;\n",
              "    }\n",
              "</style>\n",
              "<table border=\"1\" class=\"dataframe\">\n",
              "  <thead>\n",
              "    <tr style=\"text-align: right;\">\n",
              "      <th></th>\n",
              "      <th>0</th>\n",
              "      <th>1</th>\n",
              "      <th>2</th>\n",
              "      <th>3</th>\n",
              "      <th>6</th>\n",
              "      <th>7</th>\n",
              "      <th>8</th>\n",
              "      <th>10</th>\n",
              "      <th>11</th>\n",
              "      <th>12</th>\n",
              "      <th>13</th>\n",
              "      <th>15</th>\n",
              "      <th>16</th>\n",
              "      <th>17</th>\n",
              "      <th>18</th>\n",
              "      <th>19</th>\n",
              "      <th>21</th>\n",
              "      <th>24</th>\n",
              "      <th>25</th>\n",
              "    </tr>\n",
              "  </thead>\n",
              "  <tbody>\n",
              "    <tr>\n",
              "      <th>0</th>\n",
              "      <td>1</td>\n",
              "      <td>1</td>\n",
              "      <td>-0.315972</td>\n",
              "      <td>-1.372920</td>\n",
              "      <td>-1.721684</td>\n",
              "      <td>-0.134252</td>\n",
              "      <td>-0.925914</td>\n",
              "      <td>0.14168</td>\n",
              "      <td>1.121113</td>\n",
              "      <td>-0.516326</td>\n",
              "      <td>-0.862792</td>\n",
              "      <td>-0.266460</td>\n",
              "      <td>0.334254</td>\n",
              "      <td>-1.058865</td>\n",
              "      <td>-0.269065</td>\n",
              "      <td>-0.603801</td>\n",
              "      <td>-0.781691</td>\n",
              "      <td>1.348460</td>\n",
              "      <td>1.194398</td>\n",
              "    </tr>\n",
              "    <tr>\n",
              "      <th>1</th>\n",
              "      <td>1</td>\n",
              "      <td>2</td>\n",
              "      <td>0.872701</td>\n",
              "      <td>-1.031695</td>\n",
              "      <td>-1.061754</td>\n",
              "      <td>0.211523</td>\n",
              "      <td>-0.643710</td>\n",
              "      <td>0.14168</td>\n",
              "      <td>0.431920</td>\n",
              "      <td>-0.798074</td>\n",
              "      <td>-0.958794</td>\n",
              "      <td>-0.191578</td>\n",
              "      <td>1.174871</td>\n",
              "      <td>-0.363637</td>\n",
              "      <td>-0.642829</td>\n",
              "      <td>-0.275845</td>\n",
              "      <td>-0.781691</td>\n",
              "      <td>1.016503</td>\n",
              "      <td>1.236892</td>\n",
              "    </tr>\n",
              "    <tr>\n",
              "      <th>2</th>\n",
              "      <td>1</td>\n",
              "      <td>3</td>\n",
              "      <td>-1.961827</td>\n",
              "      <td>1.015652</td>\n",
              "      <td>-0.661797</td>\n",
              "      <td>-0.413156</td>\n",
              "      <td>-0.525940</td>\n",
              "      <td>0.14168</td>\n",
              "      <td>1.008131</td>\n",
              "      <td>-0.234578</td>\n",
              "      <td>-0.557126</td>\n",
              "      <td>-1.015279</td>\n",
              "      <td>1.364688</td>\n",
              "      <td>-0.919819</td>\n",
              "      <td>-0.551616</td>\n",
              "      <td>-0.649128</td>\n",
              "      <td>-2.073044</td>\n",
              "      <td>0.739873</td>\n",
              "      <td>0.503411</td>\n",
              "    </tr>\n",
              "    <tr>\n",
              "      <th>3</th>\n",
              "      <td>1</td>\n",
              "      <td>4</td>\n",
              "      <td>0.324083</td>\n",
              "      <td>-0.008022</td>\n",
              "      <td>-0.661797</td>\n",
              "      <td>-1.261284</td>\n",
              "      <td>-0.784812</td>\n",
              "      <td>0.14168</td>\n",
              "      <td>1.222798</td>\n",
              "      <td>0.188044</td>\n",
              "      <td>-0.713808</td>\n",
              "      <td>-1.539452</td>\n",
              "      <td>1.961255</td>\n",
              "      <td>-0.224592</td>\n",
              "      <td>-0.520163</td>\n",
              "      <td>-1.971617</td>\n",
              "      <td>-0.781691</td>\n",
              "      <td>0.352590</td>\n",
              "      <td>0.777773</td>\n",
              "    </tr>\n",
              "    <tr>\n",
              "      <th>4</th>\n",
              "      <td>1</td>\n",
              "      <td>5</td>\n",
              "      <td>-0.864590</td>\n",
              "      <td>-0.690471</td>\n",
              "      <td>-0.621801</td>\n",
              "      <td>-1.251498</td>\n",
              "      <td>-0.301511</td>\n",
              "      <td>0.14168</td>\n",
              "      <td>0.714376</td>\n",
              "      <td>-0.516326</td>\n",
              "      <td>-0.457048</td>\n",
              "      <td>-0.977838</td>\n",
              "      <td>1.052846</td>\n",
              "      <td>-0.780774</td>\n",
              "      <td>-0.521736</td>\n",
              "      <td>-0.339837</td>\n",
              "      <td>-0.136014</td>\n",
              "      <td>0.463242</td>\n",
              "      <td>1.059526</td>\n",
              "    </tr>\n",
              "  </tbody>\n",
              "</table>\n",
              "</div>"
            ],
            "text/plain": [
              "   0   1         2         3   ...        19        21        24        25\n",
              "0   1   1 -0.315972 -1.372920  ... -0.603801 -0.781691  1.348460  1.194398\n",
              "1   1   2  0.872701 -1.031695  ... -0.275845 -0.781691  1.016503  1.236892\n",
              "2   1   3 -1.961827  1.015652  ... -0.649128 -2.073044  0.739873  0.503411\n",
              "3   1   4  0.324083 -0.008022  ... -1.971617 -0.781691  0.352590  0.777773\n",
              "4   1   5 -0.864590 -0.690471  ... -0.339837 -0.136014  0.463242  1.059526\n",
              "\n",
              "[5 rows x 19 columns]"
            ]
          },
          "metadata": {
            "tags": []
          },
          "execution_count": 78
        }
      ]
    },
    {
      "cell_type": "code",
      "metadata": {
        "id": "G1HGSZLSpcb5",
        "colab_type": "code",
        "colab": {}
      },
      "source": [
        "max_id = max(df_train[0])"
      ],
      "execution_count": 0,
      "outputs": []
    },
    {
      "cell_type": "code",
      "metadata": {
        "id": "YdHJc6E0pcsb",
        "colab_type": "code",
        "colab": {}
      },
      "source": [
        "len_seqs = [df_train[0].values.tolist().count(i) for i in range(1, max_id + 1)]"
      ],
      "execution_count": 0,
      "outputs": []
    },
    {
      "cell_type": "code",
      "metadata": {
        "id": "5kfzTgjDpc6_",
        "colab_type": "code",
        "colab": {}
      },
      "source": [
        "X_train = [df_train[df_train[0] == k] for k in  range(1, max_id + 1)]\n",
        "X_test = [df_test[df_test[0] == k] for k in  range(1, max_id + 1)]"
      ],
      "execution_count": 0,
      "outputs": []
    },
    {
      "cell_type": "code",
      "metadata": {
        "id": "M7zGyLNODQT6",
        "colab_type": "code",
        "colab": {}
      },
      "source": [
        "Y_train = [X_train[k][1] for k in range(max_id)]\n",
        "RUL = [max(Y_train[k]) for k in range(max_id)]\n",
        "Y_train = [-Y_train[k] + RUL[k] for k in range(max_id)]"
      ],
      "execution_count": 0,
      "outputs": []
    },
    {
      "cell_type": "code",
      "metadata": {
        "id": "8wH5AX45RvIP",
        "colab_type": "code",
        "colab": {}
      },
      "source": [
        "Y_test = df_test_target[0]"
      ],
      "execution_count": 0,
      "outputs": []
    },
    {
      "cell_type": "code",
      "metadata": {
        "id": "zNdSfCjHt4k0",
        "colab_type": "code",
        "colab": {}
      },
      "source": [
        "X_train = [X_train[k].drop([0,1],axis=1) for k in range(max_id)]\n",
        "X_test = [X_test[k].drop([0,1],axis=1) for k in range(max_id)]"
      ],
      "execution_count": 0,
      "outputs": []
    },
    {
      "cell_type": "code",
      "metadata": {
        "id": "LycC9xT6DQfh",
        "colab_type": "code",
        "colab": {}
      },
      "source": [
        "idx  = sorted(range(max_id), key  = lambda k: -len_seqs[k])"
      ],
      "execution_count": 0,
      "outputs": []
    },
    {
      "cell_type": "code",
      "metadata": {
        "id": "zfCitSmeBSKR",
        "colab_type": "code",
        "colab": {}
      },
      "source": [
        "def sort(data, order):\n",
        "  data = [data[i] for i in order]\n",
        "  return data"
      ],
      "execution_count": 0,
      "outputs": []
    },
    {
      "cell_type": "code",
      "metadata": {
        "id": "07Ba_KqwDQoY",
        "colab_type": "code",
        "colab": {}
      },
      "source": [
        "X_train = sort(X_train, idx)\n",
        "Y_train = sort(Y_train, idx)\n",
        "len_seqs = sort(len_seqs, idx)"
      ],
      "execution_count": 0,
      "outputs": []
    },
    {
      "cell_type": "code",
      "metadata": {
        "id": "PuKUi5-Wdt8h",
        "colab_type": "code",
        "colab": {}
      },
      "source": [
        "batch_size = 20"
      ],
      "execution_count": 0,
      "outputs": []
    },
    {
      "cell_type": "code",
      "metadata": {
        "id": "aTMd_mrGABMC",
        "colab_type": "code",
        "colab": {}
      },
      "source": [
        "batches = int(len(X_train)/batch_size)\n",
        "padding = [len_seqs[i*batch_size]  for i in range(batches) ]\n",
        "X_train_pad = [np.vstack((X_train[k],np.zeros((padding[int(k / batch_size)]-X_train[k].shape[0],X_train[k].shape[1])))) for k in range(max_id)]\n",
        "Y_train_pad = [np.hstack((Y_train[k],np.zeros((padding[int(k / batch_size)]-Y_train[k].shape[0])))) for k in range(max_id)]"
      ],
      "execution_count": 0,
      "outputs": []
    },
    {
      "cell_type": "code",
      "metadata": {
        "id": "FYkLqSBGTN_9",
        "colab_type": "code",
        "colab": {}
      },
      "source": [
        "X_test_pad = [np.vstack((X_test[k],np.zeros((padding[int(k / batch_size)]-X_train[k].shape[0],X_train[k].shape[1])))) for k in range(max_id)]"
      ],
      "execution_count": 0,
      "outputs": []
    },
    {
      "cell_type": "code",
      "metadata": {
        "id": "RVtjxjfSP-_f",
        "colab_type": "code",
        "colab": {}
      },
      "source": [
        "def train_generator(x,y,batch_size):\n",
        "    batches = int(len(x)/batch_size)\n",
        "    I = np.random.randint(batches)\n",
        "    while True:\n",
        "        I = I +1\n",
        "        if I >= batches:\n",
        "            I = 0\n",
        "        sequence_length = x[I].shape[0]\n",
        "        x_train = np.zeros((batch_size,sequence_length,x[I].shape[1]))\n",
        "        y_train = np.zeros((batch_size,sequence_length,1))\n",
        "        for j in range(batch_size):\n",
        "            x_train[j] = x[j]\n",
        "            y_train[j, :, :] = np.reshape(y[j],(362,1))\n",
        "        yield x_train, y_train\n"
      ],
      "execution_count": 0,
      "outputs": []
    },
    {
      "cell_type": "code",
      "metadata": {
        "id": "yi9YwVvFxa2k",
        "colab_type": "code",
        "outputId": "531c15da-7cd3-4fb1-c78b-ce126dd91238",
        "colab": {
          "base_uri": "https://localhost:8080/",
          "height": 386
        }
      },
      "source": [
        "model = Sequential() \n",
        "model.add(LSTM(200, return_sequences=True, input_shape=(None, 17), kernel_regularizer=l2(0.01), bias_regularizer=l2(0.01), recurrent_regularizer=l2(0.01)))\n",
        "model.add(BatchNormalization())\n",
        "model.add(Dropout(0.5))\n",
        "model.add(Dense(50, kernel_regularizer=l2(0.01), bias_regularizer=l2(0.01)))\n",
        "model.add(BatchNormalization())\n",
        "model.add(Dropout(0.5))\n",
        "model.add(Dense(1, kernel_regularizer=l2(0.01), bias_regularizer=l2(0.01), activation = 'relu'))\n",
        "\n",
        "model.compile(loss='mse', optimizer='adam' )\n",
        "model.summary()"
      ],
      "execution_count": 92,
      "outputs": [
        {
          "output_type": "stream",
          "text": [
            "Model: \"sequential_11\"\n",
            "_________________________________________________________________\n",
            "Layer (type)                 Output Shape              Param #   \n",
            "=================================================================\n",
            "lstm_11 (LSTM)               (None, None, 200)         174400    \n",
            "_________________________________________________________________\n",
            "batch_normalization_22 (Batc (None, None, 200)         800       \n",
            "_________________________________________________________________\n",
            "dropout_22 (Dropout)         (None, None, 200)         0         \n",
            "_________________________________________________________________\n",
            "dense_22 (Dense)             (None, None, 50)          10050     \n",
            "_________________________________________________________________\n",
            "batch_normalization_23 (Batc (None, None, 50)          200       \n",
            "_________________________________________________________________\n",
            "dropout_23 (Dropout)         (None, None, 50)          0         \n",
            "_________________________________________________________________\n",
            "dense_23 (Dense)             (None, None, 1)           51        \n",
            "=================================================================\n",
            "Total params: 185,501\n",
            "Trainable params: 185,001\n",
            "Non-trainable params: 500\n",
            "_________________________________________________________________\n"
          ],
          "name": "stdout"
        }
      ]
    },
    {
      "cell_type": "code",
      "metadata": {
        "id": "2wsDetGw9iT4",
        "colab_type": "code",
        "outputId": "f2797d9a-fd66-49ad-ad78-ebe227be4f8c",
        "colab": {
          "base_uri": "https://localhost:8080/",
          "height": 1000
        }
      },
      "source": [
        "model.fit_generator(train_generator(X_train_pad, Y_train_pad, batch_size), steps_per_epoch = batch_size, epochs=80, verbose=1)"
      ],
      "execution_count": 102,
      "outputs": [
        {
          "output_type": "stream",
          "text": [
            "Epoch 1/80\n",
            "20/20 [==============================] - 15s 731ms/step - loss: 19883.8945\n",
            "Epoch 2/80\n",
            "20/20 [==============================] - 10s 497ms/step - loss: 19220.8652\n",
            "Epoch 3/80\n",
            "20/20 [==============================] - 10s 502ms/step - loss: 18875.7168\n",
            "Epoch 4/80\n",
            "20/20 [==============================] - 10s 503ms/step - loss: 18434.8496\n",
            "Epoch 5/80\n",
            "20/20 [==============================] - 10s 498ms/step - loss: 18115.4648\n",
            "Epoch 6/80\n",
            "20/20 [==============================] - 10s 495ms/step - loss: 17681.5586\n",
            "Epoch 7/80\n",
            "20/20 [==============================] - 10s 493ms/step - loss: 17220.4043\n",
            "Epoch 8/80\n",
            "20/20 [==============================] - 10s 492ms/step - loss: 16781.9551\n",
            "Epoch 9/80\n",
            "20/20 [==============================] - 10s 491ms/step - loss: 16335.8389\n",
            "Epoch 10/80\n",
            "20/20 [==============================] - 10s 495ms/step - loss: 15861.9277\n",
            "Epoch 11/80\n",
            "20/20 [==============================] - 10s 491ms/step - loss: 15377.8877\n",
            "Epoch 12/80\n",
            "20/20 [==============================] - 10s 500ms/step - loss: 14882.3066\n",
            "Epoch 13/80\n",
            "20/20 [==============================] - 10s 494ms/step - loss: 14385.7793\n",
            "Epoch 14/80\n",
            "20/20 [==============================] - 10s 493ms/step - loss: 13866.5840\n",
            "Epoch 15/80\n",
            "20/20 [==============================] - 10s 498ms/step - loss: 13349.6113\n",
            "Epoch 16/80\n",
            "20/20 [==============================] - 10s 493ms/step - loss: 12824.1289\n",
            "Epoch 17/80\n",
            "20/20 [==============================] - 10s 492ms/step - loss: 12276.6396\n",
            "Epoch 18/80\n",
            "20/20 [==============================] - 10s 501ms/step - loss: 11752.3135\n",
            "Epoch 19/80\n",
            "20/20 [==============================] - 10s 488ms/step - loss: 11207.9688\n",
            "Epoch 20/80\n",
            "20/20 [==============================] - 10s 502ms/step - loss: 10677.9746\n",
            "Epoch 21/80\n",
            "20/20 [==============================] - 10s 504ms/step - loss: 10161.3027\n",
            "Epoch 22/80\n",
            "20/20 [==============================] - 10s 499ms/step - loss: 9615.8896\n",
            "Epoch 23/80\n",
            "20/20 [==============================] - 10s 495ms/step - loss: 9095.4736\n",
            "Epoch 24/80\n",
            "20/20 [==============================] - 10s 496ms/step - loss: 8585.3428\n",
            "Epoch 25/80\n",
            "20/20 [==============================] - 10s 492ms/step - loss: 8089.3682\n",
            "Epoch 26/80\n",
            "20/20 [==============================] - 10s 495ms/step - loss: 7594.8271\n",
            "Epoch 27/80\n",
            "20/20 [==============================] - 10s 495ms/step - loss: 7116.8931\n",
            "Epoch 28/80\n",
            "20/20 [==============================] - 10s 493ms/step - loss: 6638.0156\n",
            "Epoch 29/80\n",
            "20/20 [==============================] - 10s 495ms/step - loss: 6189.3711\n",
            "Epoch 30/80\n",
            "20/20 [==============================] - 10s 495ms/step - loss: 5762.6270\n",
            "Epoch 31/80\n",
            "20/20 [==============================] - 10s 492ms/step - loss: 5329.2559\n",
            "Epoch 32/80\n",
            "20/20 [==============================] - 10s 496ms/step - loss: 4940.3428\n",
            "Epoch 33/80\n",
            "20/20 [==============================] - 10s 502ms/step - loss: 4573.7280\n",
            "Epoch 34/80\n",
            "20/20 [==============================] - 10s 500ms/step - loss: 4209.8584\n",
            "Epoch 35/80\n",
            "20/20 [==============================] - 10s 493ms/step - loss: 3866.7292\n",
            "Epoch 36/80\n",
            "20/20 [==============================] - 10s 493ms/step - loss: 3542.3403\n",
            "Epoch 37/80\n",
            "20/20 [==============================] - 10s 489ms/step - loss: 3253.5066\n",
            "Epoch 38/80\n",
            "20/20 [==============================] - 10s 492ms/step - loss: 2972.0867\n",
            "Epoch 39/80\n",
            "20/20 [==============================] - 10s 508ms/step - loss: 2703.3813\n",
            "Epoch 40/80\n",
            "20/20 [==============================] - 10s 493ms/step - loss: 2476.6528\n",
            "Epoch 41/80\n",
            "20/20 [==============================] - 10s 488ms/step - loss: 2249.3503\n",
            "Epoch 42/80\n",
            "20/20 [==============================] - 10s 491ms/step - loss: 2041.2961\n",
            "Epoch 43/80\n",
            "20/20 [==============================] - 10s 499ms/step - loss: 1866.6702\n",
            "Epoch 44/80\n",
            "20/20 [==============================] - 10s 496ms/step - loss: 1688.8629\n",
            "Epoch 45/80\n",
            "20/20 [==============================] - 10s 502ms/step - loss: 1540.7021\n",
            "Epoch 46/80\n",
            "20/20 [==============================] - 10s 495ms/step - loss: 1407.7117\n",
            "Epoch 47/80\n",
            "20/20 [==============================] - 10s 493ms/step - loss: 1279.6492\n",
            "Epoch 48/80\n",
            "20/20 [==============================] - 10s 498ms/step - loss: 1178.1443\n",
            "Epoch 49/80\n",
            "20/20 [==============================] - 10s 491ms/step - loss: 1070.2507\n",
            "Epoch 50/80\n",
            "20/20 [==============================] - 10s 503ms/step - loss: 986.1473\n",
            "Epoch 51/80\n",
            "20/20 [==============================] - 10s 508ms/step - loss: 912.8099\n",
            "Epoch 52/80\n",
            "20/20 [==============================] - 10s 501ms/step - loss: 851.4229\n",
            "Epoch 53/80\n",
            "20/20 [==============================] - 10s 494ms/step - loss: 793.1656\n",
            "Epoch 54/80\n",
            "20/20 [==============================] - 10s 500ms/step - loss: 741.7944\n",
            "Epoch 55/80\n",
            "20/20 [==============================] - 10s 493ms/step - loss: 692.3505\n",
            "Epoch 56/80\n",
            "20/20 [==============================] - 10s 506ms/step - loss: 657.3099\n",
            "Epoch 57/80\n",
            "20/20 [==============================] - 10s 497ms/step - loss: 630.9894\n",
            "Epoch 58/80\n",
            "20/20 [==============================] - 10s 501ms/step - loss: 600.1691\n",
            "Epoch 59/80\n",
            "20/20 [==============================] - 16s 777ms/step - loss: 575.5312\n",
            "Epoch 60/80\n",
            "20/20 [==============================] - 10s 500ms/step - loss: 550.9224\n",
            "Epoch 61/80\n",
            "20/20 [==============================] - 10s 498ms/step - loss: 539.9629\n",
            "Epoch 62/80\n",
            "20/20 [==============================] - 10s 509ms/step - loss: 519.5709\n",
            "Epoch 63/80\n",
            "20/20 [==============================] - 10s 504ms/step - loss: 512.4518\n",
            "Epoch 64/80\n",
            "20/20 [==============================] - 10s 505ms/step - loss: 501.0226\n",
            "Epoch 65/80\n",
            "20/20 [==============================] - 10s 507ms/step - loss: 493.8619\n",
            "Epoch 66/80\n",
            "20/20 [==============================] - 10s 502ms/step - loss: 490.1715\n",
            "Epoch 67/80\n",
            "20/20 [==============================] - 10s 503ms/step - loss: 481.8920\n",
            "Epoch 68/80\n",
            "20/20 [==============================] - 10s 501ms/step - loss: 472.7579\n",
            "Epoch 69/80\n",
            "20/20 [==============================] - 10s 500ms/step - loss: 473.9728\n",
            "Epoch 70/80\n",
            "20/20 [==============================] - 10s 500ms/step - loss: 470.0369\n",
            "Epoch 71/80\n",
            "20/20 [==============================] - 10s 503ms/step - loss: 471.3843\n",
            "Epoch 72/80\n",
            "20/20 [==============================] - 10s 506ms/step - loss: 465.2072\n",
            "Epoch 73/80\n",
            "20/20 [==============================] - 10s 502ms/step - loss: 462.9379\n",
            "Epoch 74/80\n",
            "20/20 [==============================] - 10s 502ms/step - loss: 463.8311\n",
            "Epoch 75/80\n",
            "20/20 [==============================] - 10s 504ms/step - loss: 460.3565\n",
            "Epoch 76/80\n",
            "20/20 [==============================] - 10s 506ms/step - loss: 456.1777\n",
            "Epoch 77/80\n",
            "20/20 [==============================] - 10s 500ms/step - loss: 456.5737\n",
            "Epoch 78/80\n",
            "20/20 [==============================] - 10s 510ms/step - loss: 459.4972\n",
            "Epoch 79/80\n",
            "20/20 [==============================] - 10s 509ms/step - loss: 452.8979\n",
            "Epoch 80/80\n",
            "20/20 [==============================] - 10s 504ms/step - loss: 458.4062\n"
          ],
          "name": "stdout"
        },
        {
          "output_type": "execute_result",
          "data": {
            "text/plain": [
              "<tensorflow.python.keras.callbacks.History at 0x7fbb45603160>"
            ]
          },
          "metadata": {
            "tags": []
          },
          "execution_count": 102
        }
      ]
    },
    {
      "cell_type": "code",
      "metadata": {
        "id": "j5pVwYoJKUjS",
        "colab_type": "code",
        "colab": {}
      },
      "source": [
        "prediction = model.predict(np.reshape(np.array(X_test[6]), (1, X_test[6].shape[0], X_test[6].shape[1])))"
      ],
      "execution_count": 0,
      "outputs": []
    },
    {
      "cell_type": "code",
      "metadata": {
        "id": "JlBHWgceKUuk",
        "colab_type": "code",
        "outputId": "8eb5b717-50c0-4579-cd2b-277c5c5b887e",
        "colab": {
          "base_uri": "https://localhost:8080/",
          "height": 67
        }
      },
      "source": [
        "print('\\nPredicted RUL:', prediction[0, -1], '\\nRUL:', Y_test[6])"
      ],
      "execution_count": 117,
      "outputs": [
        {
          "output_type": "stream",
          "text": [
            "\n",
            "Predicted RUL: [97.478455] \n",
            "RUL: 91\n"
          ],
          "name": "stdout"
        }
      ]
    }
  ]
}